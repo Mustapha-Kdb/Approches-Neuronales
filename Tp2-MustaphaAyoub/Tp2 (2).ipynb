{
 "cells": [
  {
   "attachments": {},
   "cell_type": "markdown",
   "metadata": {},
   "source": [
    "Partie 1\n",
    "#Chargement des données "
   ]
  },
  {
   "cell_type": "code",
   "execution_count": 3,
   "metadata": {},
   "outputs": [
    {
     "name": "stdout",
     "output_type": "stream",
     "text": [
      "104\n",
      "104\n"
     ]
    }
   ],
   "source": [
    "import pandas as pd\n",
    "import re\n",
    "\n",
    "def extract_data(input_path, pattern):\n",
    "    with open(input_path, 'r') as file:\n",
    "        content = file.read()\n",
    "    matches = re.findall(pattern, content, re.MULTILINE)\n",
    "    data = []\n",
    "    for match in matches:\n",
    "        numbers = match[1].replace('\\n', ' ').split()\n",
    "        numbers_float = [float(number) for number in numbers]\n",
    "        data.append(numbers_float)\n",
    "    return pd.DataFrame(data)\n",
    "\n",
    "rocks_path = 'data/sonar.rocks'\n",
    "mines_path = 'data/sonar.mines'\n",
    "\n",
    "# Patterns for extracting train and test data\n",
    "train_pattern = r'\\*(CR|CM)\\d+:\\n\\{([\\d\\s\\.\\n]+)\\}'\n",
    "test_pattern = r'^(?!\\*)(CR|CM)\\d+:\\n\\{([\\d\\s\\.\\n]+)\\}'\n",
    "\n",
    "# Extracting train and test data\n",
    "rocks_train_df = extract_data(rocks_path, train_pattern)\n",
    "mines_train_df = extract_data(mines_path, train_pattern)\n",
    "rocks_train_df['Label'] = 'R'  \n",
    "mines_train_df['Label'] = 'M' \n",
    "train_df = pd.concat([rocks_train_df, mines_train_df], ignore_index=True).sample(frac=1).reset_index(drop=True)\n",
    "\n",
    "rocks_test_df = extract_data(rocks_path, test_pattern)\n",
    "mines_test_df = extract_data(mines_path, test_pattern)\n",
    "rocks_test_df['Label'] = 'R'  \n",
    "mines_test_df['Label'] = 'M' \n",
    "test_df = pd.concat([rocks_test_df, mines_test_df], ignore_index=True).sample(frac=1).reset_index(drop=True)\n",
    "\n",
    "print(len(train_df))\n",
    "print(len(test_df)) \n"
   ]
  },
  {
   "attachments": {},
   "cell_type": "markdown",
   "metadata": {},
   "source": [
    "Partie 2"
   ]
  },
  {
   "attachments": {},
   "cell_type": "markdown",
   "metadata": {},
   "source": [
    "##Apprentissage sur train"
   ]
  },
  {
   "cell_type": "code",
   "execution_count": 4,
   "metadata": {},
   "outputs": [],
   "source": [
    "import numpy as np\n",
    "\n",
    "def perceptron_batch(training_features, training_labels, epochs=22000, learning_rate=0.001):\n",
    "\n",
    "    # Initialisation des poids\n",
    "    weights = np.zeros(training_features.shape[1] + 1)\n",
    "    \n",
    "    # Entraînement\n",
    "    for _ in range(epochs):\n",
    "        # Initialisation du vecteur de mise à jour pour cette époque\n",
    "        update = np.zeros(training_features.shape[1] + 1)\n",
    "        \n",
    "        for inputs, label in zip(training_features, training_labels):\n",
    "            # Calcul de la prédiction\n",
    "            activation = np.dot(inputs, weights[1:]) + weights[0]\n",
    "            if activation >= 0:\n",
    "                prediction = 1\n",
    "            else:\n",
    "                prediction = -1\n",
    "            \n",
    "            # Accumulation de la mise à jour basée sur l'erreur\n",
    "            update[1:] += learning_rate * (label - prediction) * inputs\n",
    "            update[0] += learning_rate * (label - prediction)\n",
    "        \n",
    "        # Mise à jour des poids à la fin de l'époque\n",
    "        weights += update\n",
    "    \n",
    "    return weights\n",
    "\n",
    "# Préparation des données\n",
    "# Supposons que train_df est déjà défini et mélangé\n",
    "# Convertir les étiquettes 'R' et 'M' en valeurs numériques -1 et 1\n",
    "train_df['Label'] = train_df['Label'].apply(lambda x: 1 if x == 'M' else -1)\n",
    "test_df['Label'] = test_df['Label'].apply(lambda x: 1 if x == 'M' else -1)\n",
    "\n",
    "# Séparation des caractéristiques et des étiquettes\n",
    "train_features = train_df.iloc[:, :-1].values\n",
    "train_labels = train_df.iloc[:, -1].values\n",
    "\n",
    "# Entraînement du perceptron\n",
    "weights = perceptron_batch(train_features, train_labels)"
   ]
  },
  {
   "attachments": {},
   "cell_type": "markdown",
   "metadata": {},
   "source": [
    "Calcul de Ea et de Eg"
   ]
  },
  {
   "cell_type": "code",
   "execution_count": 5,
   "metadata": {},
   "outputs": [
    {
     "name": "stdout",
     "output_type": "stream",
     "text": [
      "[ 1 -1  1 -1  1  1  1  1 -1 -1  1  1  1  1  1 -1 -1 -1 -1  1 -1  1 -1 -1\n",
      "  1 -1  1  1  1  1 -1  1  1 -1 -1  1 -1 -1  1 -1 -1  1 -1  1  1  1 -1  1\n",
      "  1 -1 -1 -1  1 -1  1  1 -1  1 -1 -1  1  1 -1  1 -1  1  1  1  1  1 -1 -1\n",
      "  1  1  1  1  1  1  1  1 -1 -1  1  1  1  1 -1 -1  1  1 -1 -1  1 -1  1 -1\n",
      "  1  1  1  1 -1  1  1 -1]\n",
      "[-1, -1, 1, -1, -1, 1, 1, 1, -1, 1, -1, 1, -1, 1, 1, -1, -1, -1, -1, -1, -1, 1, -1, -1, 1, -1, 1, 1, 1, 1, -1, -1, -1, -1, -1, 1, 1, -1, 1, -1, -1, 1, 1, 1, 1, -1, -1, -1, 1, -1, 1, -1, 1, -1, 1, -1, -1, 1, -1, -1, 1, 1, -1, 1, 1, 1, -1, 1, -1, 1, -1, -1, 1, 1, 1, 1, 1, 1, 1, 1, -1, -1, 1, 1, 1, 1, 1, -1, 1, 1, 1, -1, 1, -1, 1, -1, -1, 1, 1, 1, -1, 1, 1, -1]\n",
      "Erreur d'apprentissage (Ea) : 0.0\n",
      "Erreur de généralisation (Eg) : 0.1923076923076923\n",
      "Les poids du perceptron [-0.98       0.842751   2.1072314  0.3838012  1.1038062  0.7259872\n",
      "  1.4434456 -0.6594728 -1.5828186  0.0899288  1.0787674  0.38768\n",
      "  0.1341432  0.0255996  0.042866   0.5863472 -1.958266  -0.5572258\n",
      "  2.0306202 -0.378772  -0.0970566 -0.3937258  0.5972566 -0.440081\n",
      "  1.078278  -0.1139262 -0.1252908  0.1074978 -0.2024282 -0.19539\n",
      "  2.048143  -3.0649636  2.3248804 -1.6053052  0.743006  -0.4041242\n",
      " -0.2133034 -0.3860196 -0.2090698  1.7067118 -1.526431   0.636046\n",
      " -0.140197  -0.1147842 -0.6595438  1.1983514  1.035655  -1.0689164\n",
      "  2.105948   2.8900536 -1.2872816  0.5331192  0.5126696  0.30002\n",
      "  0.825407  -0.1197684 -0.2328594 -0.544665   0.3433368 -0.1490698\n",
      " -0.1637436]\n"
     ]
    }
   ],
   "source": [
    "def predict_perceptron(inputs, weights):\n",
    "    activation = np.dot(inputs, weights[1:]) + weights[0]\n",
    "    return 1 if activation >= 0 else -1\n",
    "\n",
    "# Fonction pour calculer la précision\n",
    "def calculate_accuracy(features, labels, weights):\n",
    "    predictions = [predict_perceptron(x, weights) for x in features]\n",
    "    correct_predictions = sum(pred == label for pred, label in zip(predictions, labels))\n",
    "    accuracy = correct_predictions / len(labels)\n",
    "    return accuracy\n",
    "\n",
    "# Convertir les étiquettes de l'ensemble de test en valeurs numériques -1 et 1\n",
    "# test_df['Label'] = test_df['Label'].apply(lambda x: 1 if x == 'M' else -1)\n",
    "\n",
    "# Séparer les caractéristiques et les étiquettes de l'ensemble de test\n",
    "test_features = test_df.iloc[:, :-1].values\n",
    "test_labels = test_df.iloc[:, -1].values\n",
    "\n",
    "print (test_labels)\n",
    "predictions = [predict_perceptron(x, weights) for x in test_features]\n",
    "print (predictions)\n",
    "# Calculer la précision sur l'ensemble d'entraînement et de test\n",
    "training_accuracy = calculate_accuracy(train_features, train_labels, weights)\n",
    "testing_accuracy = calculate_accuracy(test_features, test_labels, weights)\n",
    "\n",
    "# Calculer les erreurs d'apprentissage (Ea) et de généralisation (Eg)\n",
    "Ea = 1 - training_accuracy\n",
    "Eg = 1 - testing_accuracy\n",
    "\n",
    "print(f\"Erreur d'apprentissage (Ea) : {Ea}\")\n",
    "print(f\"Erreur de généralisation (Eg) : {Eg}\")\n",
    "\n",
    "print(\"Les poids du perceptron\",weights)"
   ]
  },
  {
   "attachments": {},
   "cell_type": "markdown",
   "metadata": {},
   "source": [
    "Fonction de stabilité"
   ]
  },
  {
   "cell_type": "code",
   "execution_count": 6,
   "metadata": {},
   "outputs": [
    {
     "name": "stdout",
     "output_type": "stream",
     "text": [
      "[-0.0061959989213297905, 0.05905422131395411, 0.039792229771220086, 0.17605211668319995, -0.10534737547048373, 0.04067017616194673, 0.030317984360209244, 0.05371081947149794, 0.030945614124016443, -0.00916535945513559, -0.014154321773554628, 0.007867291952074229, -0.0503814859808265, 0.07983593435332324, 0.09763893175005434, 0.0004061038794771423, 0.10841419895433253, 0.09589829040587151, 0.03950120294164314, -0.02349268504012388, 0.028455246265527534, 0.13282763219599927, 0.05075649278576886, 0.013523552468373078, 0.0483483241107518, 0.04580585955102746, 0.0489606525432867, 0.0681004030818897, 0.04451090764827774, 0.12787335649138531, 0.05463658281615936, -0.029043034284097033, -0.012573709547962, 0.06654454302777481, 0.02831495527034469, 0.1242444048286329, -0.009218821466756533, 0.14910719515134788, 0.06489550841872592, 0.05737214299335728, 0.00776958435310462, 0.05971137071155303, -0.04335662826628704, 0.08248702066140624, 0.06265733368467194, -0.004613959227715882, 0.11231781199792044, -0.016231327999165053, 0.04621315678742926, 0.007441359997913437, -0.07474226052332722, 0.025140511904154644, 0.059650497622990684, 0.00014255995467694918, 0.07343003608748128, -0.0021689656867124817, 0.024904576484384027, 0.03684822819133678, 0.0681645633607934, 0.03666161187971871, 0.12846848867156055, 0.057486786224914384, 0.033531253909244205, 0.1183575424938363, -0.09055188285508506, 0.05878370610762789, -0.008394134711903676, 0.00684133547975003, -0.06331791162327312, 0.12042269580186449, 0.11095867882739273, 0.08627464181864122, 0.13040261257309624, 0.051286349446895495, 0.061273160229393976, 0.04022181768287597, 0.046290238502650016, 0.0961632052710738, 0.14613330105292296, 0.029767926209710527, 0.05245280389071565, 0.0034533032870284306, 0.007729754812899275, 0.16721869785067262, 0.021359085205932583, 0.008042335191409346, -0.05801110738737996, 0.05331840266118029, 0.056790219717956794, 0.20261388007171757, -0.10987461833133383, 0.09047079036005819, 0.06029081204123423, 0.014626107736102324, 0.12096289657160839, 0.046889181520862855, -0.032175616291222967, 0.03142980891713498, 0.03803587343383305, 0.10266639295772789, 0.07141577406176947, 0.08486236001803221, 0.16423151163533778, 0.021634245022501542]\n"
     ]
    }
   ],
   "source": [
    "def calculate_stability(features, labels, weights):\n",
    "    norm_w = np.linalg.norm(weights[1:])  # Calcul de la norme du vecteur de poids (sans le biais)\n",
    "    stabilities = []\n",
    "    for x, y in zip(features, labels):\n",
    "        # Calcul de la marge fonctionnelle pour chaque exemple\n",
    "        gamma = y * (np.dot(weights[1:], x) + weights[0]) / norm_w\n",
    "        stabilities.append(gamma)\n",
    "    return stabilities\n",
    "\n",
    "# Calcul des stabilités pour l'ensemble de test\n",
    "test_stabilities = calculate_stability(test_features, test_labels, weights)\n",
    "\n",
    "# Afficher les stabilités des exemples de test\n",
    "print(test_stabilities)\n",
    "\n",
    "\n"
   ]
  },
  {
   "attachments": {},
   "cell_type": "markdown",
   "metadata": {},
   "source": [
    "Graph"
   ]
  },
  {
   "cell_type": "code",
   "execution_count": 7,
   "metadata": {},
   "outputs": [
    {
     "data": {
      "image/png": "[encoded data removed]",
      "text/plain": [
       "<Figure size 720x432 with 1 Axes>"
      ]
     },
     "metadata": {
      "needs_background": "light"
     },
     "output_type": "display_data"
    }
   ],
   "source": [
    "import matplotlib.pyplot as plt\n",
    "\n",
    "# Définir les étiquettes pour les mines et les roches\n",
    "# Ici, nous simulons les étiquettes. Dans votre cas, utilisez les étiquettes réelles de vos données\n",
    "labels = ['Bien classé' if val > 0 else 'Mal classé' for val in test_stabilities]\n",
    "\n",
    "# Créer le graphique de stabilité\n",
    "plt.figure(figsize=(10, 6))\n",
    "\n",
    "# Barres pour les exemples classés comme mines\n",
    "plt.bar(range(len(test_stabilities)), [val if val > 0 else 0 for val in test_stabilities], \n",
    "        color='blue', label='Bien classé')\n",
    "\n",
    "# Barres pour les exemples classés comme roches\n",
    "plt.bar(range(len(test_stabilities)), [val if val < 0 else 0 for val in test_stabilities], \n",
    "        color='red', label='Mal classé')\n",
    "\n",
    "# Ajouter des légendes, des étiquettes et un titre\n",
    "plt.legend()\n",
    "plt.xlabel('Exemple')\n",
    "plt.ylabel('Stabilité')\n",
    "plt.title('Graphique de Stabilité pour les Données de Test')\n",
    "\n",
    "# Afficher le graphique\n",
    "plt.show()\n"
   ]
  },
  {
   "attachments": {},
   "cell_type": "markdown",
   "metadata": {},
   "source": [
    "- ## Apprentissage Sur L'ensemble de Test"
   ]
  },
  {
   "cell_type": "code",
   "execution_count": 8,
   "metadata": {},
   "outputs": [
    {
     "name": "stdout",
     "output_type": "stream",
     "text": [
      "Erreur d'apprentissage (Ea) : 0.0\n",
      "Erreur de généralisation (Eg) : 0.24038461538461542\n",
      "Les poids du perceptron [-0.328      0.0686126 -0.1159324 -0.077849   0.1135112  0.0488218\n",
      " -0.3204944 -0.5926774 -0.0325976  0.428619   0.1735732  0.6977114\n",
      "  0.4804088  0.0313228 -0.120048  -0.3533744  0.1946254  0.0283746\n",
      " -0.1925738 -0.061936   0.101043   0.1632826  0.0522688  0.1890824\n",
      "  0.1946074 -0.2644658 -0.2842268  0.029335   0.2229372  0.0131534\n",
      "  0.0193636 -0.2111312  0.1043906 -0.0647168 -0.269177   0.1494514\n",
      " -0.1701704 -0.6112972 -0.066194   0.3420308 -0.2526802  0.122682\n",
      "  0.146649   0.476997   0.623887   0.344156   0.043636   0.0806328\n",
      "  0.2418556  0.0053686 -0.0403676  0.0975422  0.0670112  0.0267412\n",
      "  0.016926   0.0034072  0.0148744  0.024501   0.0196874  0.0724016\n",
      "  0.0097818]\n"
     ]
    },
    {
     "data": {
      "image/png": "[encoded data removed]",
      "text/plain": [
       "<Figure size 432x288 with 1 Axes>"
      ]
     },
     "metadata": {
      "needs_background": "light"
     },
     "output_type": "display_data"
    }
   ],
   "source": [
    "# maintenant on va faire l'inverse Apprendre l’ensemble « test », puis tester sur l’ensemble\n",
    "# « train ». Calculer a), b) et c) du point précédent 2. Les données à tester NE DOIVENT\n",
    "# PAS CONTENIR LEUR CLASSE.\n",
    "\n",
    "# Entraînement du perceptron\n",
    "weights = perceptron_batch(test_features, test_labels)\n",
    "\n",
    "test_stabilities= calculate_stability(train_features, train_labels, weights)\n",
    "# Calculer la précision sur l'ensemble d'entraînement et de test\n",
    "training_accuracy = calculate_accuracy(test_features, test_labels, weights)\n",
    "testing_accuracy = calculate_accuracy(train_features, train_labels, weights)\n",
    "\n",
    "# Calculer les erreurs d'apprentissage (Ea) et de généralisation (Eg)\n",
    "Ea = 1 - training_accuracy\n",
    "Eg = 1 - testing_accuracy\n",
    "\n",
    "print(f\"Erreur d'apprentissage (Ea) : {Ea}\")\n",
    "print(f\"Erreur de généralisation (Eg) : {Eg}\")\n",
    "\n",
    "print(\"Les poids du perceptron\",weights)\n",
    "\n",
    "# Affichage du graphique\n",
    "plt.bar(range(len(test_stabilities)), [val if val < 0 else 0 for val in test_stabilities], \n",
    "        color='blue', label='Bien classé')\n",
    "\n",
    "# Barres pour les exemples classés comme roches\n",
    "plt.bar(range(len(test_stabilities)), [val if val > 0 else 0 for val in test_stabilities], \n",
    "        color='red', label='Mal classé')\n",
    "\n",
    "# Ajout des étiquettes\n",
    "plt.xlabel('Exemples')\n",
    "plt.ylabel('Pertes')\n",
    "plt.title('Pertes pour les exemples de test')\n",
    "plt.legend()\n",
    "plt.show()"
   ]
  }
 ],
 "metadata": {
  "kernelspec": {
   "display_name": "Python 3",
   "language": "python",
   "name": "python3"
  },
  "language_info": {
   "codemirror_mode": {
    "name": "ipython",
    "version": 3
   },
   "file_extension": ".py",
   "mimetype": "text/x-python",
   "name": "python",
   "nbconvert_exporter": "python",
   "pygments_lexer": "ipython3",
   "version": "3.9.13"
  }
 },
 "nbformat": 4,
 "nbformat_minor": 2
}
