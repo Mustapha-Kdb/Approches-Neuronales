{
 "cells": [
  {
   "cell_type": "markdown",
   "metadata": {},
   "source": [
    "Partie 1\n",
    "#Chargement des données "
   ]
  },
  {
   "cell_type": "code",
   "execution_count": 1,
   "metadata": {},
   "outputs": [
    {
     "name": "stdout",
     "output_type": "stream",
     "text": [
      "104\n",
      "104\n"
     ]
    }
   ],
   "source": [
    "import pandas as pd\n",
    "import re\n",
    "\n",
    "def extract_data(input_path, pattern):\n",
    "    with open(input_path, 'r') as file:\n",
    "        content = file.read()\n",
    "    matches = re.findall(pattern, content, re.MULTILINE)\n",
    "    data = []\n",
    "    for match in matches:\n",
    "        numbers = match[1].replace('\\n', ' ').split()\n",
    "        numbers_float = [float(number) for number in numbers]\n",
    "        data.append(numbers_float)\n",
    "    return pd.DataFrame(data)\n",
    "\n",
    "rocks_path = 'data/sonar.rocks'\n",
    "mines_path = 'data/sonar.mines'\n",
    "\n",
    "# Patterns for extracting train and test data\n",
    "train_pattern = r'\\*(CR|CM)\\d+:\\n\\{([\\d\\s\\.\\n]+)\\}'\n",
    "test_pattern = r'^(?!\\*)(CR|CM)\\d+:\\n\\{([\\d\\s\\.\\n]+)\\}'\n",
    "\n",
    "# Extracting train and test data\n",
    "rocks_train_df = extract_data(rocks_path, train_pattern)\n",
    "mines_train_df = extract_data(mines_path, train_pattern)\n",
    "rocks_train_df['Label'] = 'R'  \n",
    "mines_train_df['Label'] = 'M' \n",
    "train_df = pd.concat([rocks_train_df, mines_train_df], ignore_index=True).sample(frac=1).reset_index(drop=True)\n",
    "\n",
    "rocks_test_df = extract_data(rocks_path, test_pattern)\n",
    "mines_test_df = extract_data(mines_path, test_pattern)\n",
    "rocks_test_df['Label'] = 'R'  \n",
    "mines_test_df['Label'] = 'M' \n",
    "test_df = pd.concat([rocks_test_df, mines_test_df], ignore_index=True).sample(frac=1).reset_index(drop=True)\n",
    "\n",
    "print(len(train_df))\n",
    "print(len(test_df)) \n"
   ]
  },
  {
   "cell_type": "markdown",
   "metadata": {},
   "source": [
    "Partie 2"
   ]
  },
  {
   "cell_type": "markdown",
   "metadata": {},
   "source": [
    "##Apprentissage sur train"
   ]
  },
  {
   "cell_type": "code",
   "execution_count": 2,
   "metadata": {},
   "outputs": [],
   "source": [
    "import numpy as np\n",
    "\n",
    "def perceptron_batch(training_features, training_labels, epochs=22000, learning_rate=0.001):\n",
    "\n",
    "    # Initialisation des poids\n",
    "    weights = np.zeros(training_features.shape[1] + 1)\n",
    "    \n",
    "    # Entraînement\n",
    "    for _ in range(epochs):\n",
    "        # Initialisation du vecteur de mise à jour pour cette époque\n",
    "        update = np.zeros(training_features.shape[1] + 1)\n",
    "        \n",
    "        for inputs, label in zip(training_features, training_labels):\n",
    "            # Calcul de la prédiction\n",
    "            activation = np.dot(inputs, weights[1:]) + weights[0]\n",
    "            if activation >= 0:\n",
    "                prediction = 1\n",
    "            else:\n",
    "                prediction = -1\n",
    "            \n",
    "            # Accumulation de la mise à jour basée sur l'erreur\n",
    "            update[1:] += learning_rate * (label - prediction) * inputs\n",
    "            update[0] += learning_rate * (label - prediction)\n",
    "        \n",
    "        # Mise à jour des poids à la fin de l'époque\n",
    "        weights += update\n",
    "    \n",
    "    return weights\n",
    "\n",
    "# Préparation des données\n",
    "# Supposons que train_df est déjà défini et mélangé\n",
    "# Convertir les étiquettes 'R' et 'M' en valeurs numériques -1 et 1\n",
    "train_df['Label'] = train_df['Label'].apply(lambda x: 1 if x == 'M' else -1)\n",
    "test_df['Label'] = test_df['Label'].apply(lambda x: 1 if x == 'M' else -1)\n",
    "\n",
    "# Séparation des caractéristiques et des étiquettes\n",
    "train_features = train_df.iloc[:, :-1].values\n",
    "train_labels = train_df.iloc[:, -1].values\n",
    "\n",
    "# Entraînement du perceptron\n",
    "weights = perceptron_batch(train_features, train_labels)"
   ]
  },
  {
   "cell_type": "markdown",
   "metadata": {},
   "source": [
    "Calcul de Ea et de Eg"
   ]
  },
  {
   "cell_type": "code",
   "execution_count": 3,
   "metadata": {},
   "outputs": [
    {
     "name": "stdout",
     "output_type": "stream",
     "text": [
      "[-1 -1  1 -1 -1 -1  1  1 -1  1 -1  1  1  1 -1  1  1 -1  1  1  1  1 -1  1\n",
      " -1  1 -1  1  1  1  1 -1 -1  1  1  1  1  1  1  1 -1  1 -1  1  1 -1  1  1\n",
      "  1  1  1 -1 -1  1  1 -1 -1 -1 -1  1  1 -1 -1  1  1 -1 -1 -1 -1  1  1 -1\n",
      "  1 -1 -1  1  1  1  1  1 -1 -1 -1  1  1  1  1 -1 -1  1  1 -1  1  1  1  1\n",
      " -1  1  1  1 -1 -1  1 -1]\n",
      "[-1, -1, 1, -1, -1, -1, 1, 1, 1, -1, -1, 1, 1, 1, -1, -1, 1, -1, 1, 1, -1, -1, -1, 1, -1, 1, 1, 1, 1, 1, 1, -1, -1, 1, 1, 1, 1, 1, 1, 1, -1, 1, -1, 1, 1, -1, 1, 1, 1, 1, 1, -1, 1, 1, 1, -1, -1, -1, 1, -1, 1, -1, -1, 1, 1, -1, 1, -1, -1, -1, 1, -1, -1, 1, -1, 1, 1, 1, -1, 1, -1, 1, -1, -1, 1, -1, 1, -1, -1, -1, -1, -1, 1, 1, 1, 1, -1, 1, 1, 1, -1, -1, -1, -1]\n",
      "Erreur d'apprentissage (Ea) : 0.0\n",
      "Erreur de généralisation (Eg) : 0.1923076923076923\n",
      "Les poids du perceptron [-0.98       0.842751   2.1072314  0.3838012  1.1038062  0.7259872\n",
      "  1.4434456 -0.6594728 -1.5828186  0.0899288  1.0787674  0.38768\n",
      "  0.1341432  0.0255996  0.042866   0.5863472 -1.958266  -0.5572258\n",
      "  2.0306202 -0.378772  -0.0970566 -0.3937258  0.5972566 -0.440081\n",
      "  1.078278  -0.1139262 -0.1252908  0.1074978 -0.2024282 -0.19539\n",
      "  2.048143  -3.0649636  2.3248804 -1.6053052  0.743006  -0.4041242\n",
      " -0.2133034 -0.3860196 -0.2090698  1.7067118 -1.526431   0.636046\n",
      " -0.140197  -0.1147842 -0.6595438  1.1983514  1.035655  -1.0689164\n",
      "  2.105948   2.8900536 -1.2872816  0.5331192  0.5126696  0.30002\n",
      "  0.825407  -0.1197684 -0.2328594 -0.544665   0.3433368 -0.1490698\n",
      " -0.1637436]\n"
     ]
    }
   ],
   "source": [
    "def predict_perceptron(inputs, weights):\n",
    "    activation = np.dot(inputs, weights[1:]) + weights[0]\n",
    "    return 1 if activation >= 0 else -1\n",
    "\n",
    "# Fonction pour calculer la précision\n",
    "def calculate_accuracy(features, labels, weights):\n",
    "    predictions = [predict_perceptron(x, weights) for x in features]\n",
    "    correct_predictions = sum(pred == label for pred, label in zip(predictions, labels))\n",
    "    accuracy = correct_predictions / len(labels)\n",
    "    return accuracy\n",
    "\n",
    "# Convertir les étiquettes de l'ensemble de test en valeurs numériques -1 et 1\n",
    "# test_df['Label'] = test_df['Label'].apply(lambda x: 1 if x == 'M' else -1)\n",
    "\n",
    "# Séparer les caractéristiques et les étiquettes de l'ensemble de test\n",
    "test_features = test_df.iloc[:, :-1].values\n",
    "test_labels = test_df.iloc[:, -1].values\n",
    "\n",
    "print (test_labels)\n",
    "predictions = [predict_perceptron(x, weights) for x in test_features]\n",
    "print (predictions)\n",
    "# Calculer la précision sur l'ensemble d'entraînement et de test\n",
    "training_accuracy = calculate_accuracy(train_features, train_labels, weights)\n",
    "testing_accuracy = calculate_accuracy(test_features, test_labels, weights)\n",
    "\n",
    "# Calculer les erreurs d'apprentissage (Ea) et de généralisation (Eg)\n",
    "Ea = 1 - training_accuracy\n",
    "Eg = 1 - testing_accuracy\n",
    "\n",
    "print(f\"Erreur d'apprentissage (Ea) : {Ea}\")\n",
    "print(f\"Erreur de généralisation (Eg) : {Eg}\")\n",
    "\n",
    "print(\"Les poids du perceptron\",weights)"
   ]
  },
  {
   "cell_type": "markdown",
   "metadata": {},
   "source": [
    "Fonction de stabilité"
   ]
  },
  {
   "cell_type": "code",
   "execution_count": 4,
   "metadata": {},
   "outputs": [
    {
     "name": "stdout",
     "output_type": "stream",
     "text": [
      "[0.02845524626552994, 0.03950120294163994, 0.05971137071155123, 0.052452803890714536, 0.06654454302777996, 0.003453303287028698, 0.08248702066140283, 0.06029081204123212, -0.058011107387376644, -0.012573709547960672, 0.02514051190415683, 0.07343003608748028, 0.09616320527107364, 0.16721869785067311, 0.030945614124019735, -0.029043034284100894, 0.10266639295772816, 0.09047079036005584, 0.036848228191335715, 0.12846848867156244, -0.1053473754704786, -0.014154321773556584, 0.10841419895433327, 0.05128634944689279, 0.013523552468375345, 0.059650497622987055, -0.009218821466755251, 0.14613330105292952, 0.20261388007172018, 0.09763893175005398, 0.029767926209707207, 0.028314955270346543, 0.05463658281616301, 0.02135908520593419, 0.03803587343383115, 0.007729754812898354, 0.0483483241107506, 0.007867291952068934, 0.12787335649138365, 0.06265733368466977, 0.02490457648438538, 0.008042335191407748, 0.00014255995467840735, 0.0681004030818942, 0.12424440482863519, 0.05905422131395275, 0.057486786224911796, 0.11835754249383638, 0.04067017616194624, 0.04022181768287676, 0.04621315678742514, 0.14910719515134507, -0.09055188285508978, 0.06127316022939098, 0.05679021971795585, 0.11095867882739119, 0.11231781199792072, 0.04688918152086497, -0.07474226052332779, -0.006195998921331469, 0.039792229771218914, 0.05331840266117478, 0.007441359997918919, 0.030317984360207693, 0.006841335479747857, 0.036661611879721286, -0.009165359455134307, 0.08627464181864108, 0.021634245022502212, -0.023492685040124448, 0.06489550841873132, 0.007769584353105886, -0.0503814859808226, -0.10987461833132953, 0.05075649278577055, 0.04451090764827601, 0.08486236001802967, 0.1328276321959945, -0.0021689656867126947, 0.07983593435332231, 0.03353125390924901, -0.04335662826628422, 0.06816456336079729, -0.008394134711905359, 0.03142980891713372, -0.06331791162327234, 0.053710819471496696, 0.0573721429933626, 0.07141577406176602, -0.004613959227718677, -0.032175616291223764, 0.0958982904058665, 0.16423151163533758, 0.12096289657160457, 0.04629023850264839, 0.05878370610762359, 0.045805859551031725, 0.04896065254328701, 0.12042269580186907, 0.13040261257309646, 0.1760521166831972, 0.00040610387947589353, -0.01623132799916834, 0.014626107736100428]\n"
     ]
    }
   ],
   "source": [
    "def calculate_stability(features, labels, weights):\n",
    "    norm_w = np.linalg.norm(weights[1:])  # Calcul de la norme du vecteur de poids (sans le biais)\n",
    "    stabilities = []\n",
    "    for x, y in zip(features, labels):\n",
    "        # Calcul de la marge fonctionnelle pour chaque exemple\n",
    "        gamma = y * (np.dot(weights[1:], x) + weights[0]) / norm_w\n",
    "        stabilities.append(gamma)\n",
    "    return stabilities\n",
    "\n",
    "# Calcul des stabilités pour l'ensemble de test\n",
    "test_stabilities = calculate_stability(test_features, test_labels, weights)\n",
    "\n",
    "# Afficher les stabilités des exemples de test\n",
    "print(test_stabilities)\n",
    "\n",
    "\n"
   ]
  },
  {
   "cell_type": "markdown",
   "metadata": {},
   "source": [
    "Graph"
   ]
  },
  {
   "cell_type": "code",
   "execution_count": 5,
   "metadata": {},
   "outputs": [
    {
     "data": {
      "image/png": "[encoded data removed]",
      "text/plain": [
       "<Figure size 1000x600 with 1 Axes>"
      ]
     },
     "metadata": {},
     "output_type": "display_data"
    }
   ],
   "source": [
    "import matplotlib.pyplot as plt\n",
    "\n",
    "# Définir les étiquettes pour les mines et les roches\n",
    "# Ici, nous simulons les étiquettes. Dans votre cas, utilisez les étiquettes réelles de vos données\n",
    "labels = ['Bien classé' if val > 0 else 'Mal classé' for val in test_stabilities]\n",
    "\n",
    "# Créer le graphique de stabilité\n",
    "plt.figure(figsize=(10, 6))\n",
    "\n",
    "# Barres pour les exemples classés comme mines\n",
    "plt.bar(range(len(test_stabilities)), [val if val > 0 else 0 for val in test_stabilities], \n",
    "        color='blue', label='Bien classé')\n",
    "\n",
    "# Barres pour les exemples classés comme roches\n",
    "plt.bar(range(len(test_stabilities)), [val if val < 0 else 0 for val in test_stabilities], \n",
    "        color='red', label='Mal classé')\n",
    "\n",
    "# Ajouter des légendes, des étiquettes et un titre\n",
    "plt.legend()\n",
    "plt.xlabel('Exemple')\n",
    "plt.ylabel('Stabilité')\n",
    "plt.title('Graphique de Stabilité pour les Données de Test')\n",
    "\n",
    "# Afficher le graphique\n",
    "plt.show()\n"
   ]
  }
 ],
 "metadata": {
  "kernelspec": {
   "display_name": "Python 3",
   "language": "python",
   "name": "python3"
  },
  "language_info": {
   "codemirror_mode": {
    "name": "ipython",
    "version": 3
   },
   "file_extension": ".py",
   "mimetype": "text/x-python",
   "name": "python",
   "nbconvert_exporter": "python",
   "pygments_lexer": "ipython3",
   "version": "3.10.8"
  }
 },
 "nbformat": 4,
 "nbformat_minor": 2
}
