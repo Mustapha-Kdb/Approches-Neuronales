{
 "cells": [
  {
   "cell_type": "markdown",
   "metadata": {},
   "source": [
    "Partie 1\n",
    "#Chargement des données "
   ]
  },
  {
   "cell_type": "code",
   "execution_count": 56,
   "metadata": {},
   "outputs": [
    {
     "name": "stdout",
     "output_type": "stream",
     "text": [
      "104\n",
      "104\n"
     ]
    }
   ],
   "source": [
    "import pandas as pd\n",
    "import re\n",
    "\n",
    "def extract_data(input_path, pattern):\n",
    "    with open(input_path, 'r') as file:\n",
    "        content = file.read()\n",
    "    matches = re.findall(pattern, content, re.MULTILINE)\n",
    "    data = []\n",
    "    for match in matches:\n",
    "        numbers = match[1].replace('\\n', ' ').split()\n",
    "        numbers_float = [float(number) for number in numbers]\n",
    "        data.append(numbers_float)\n",
    "    return pd.DataFrame(data)\n",
    "\n",
    "rocks_path = 'data/sonar.rocks'\n",
    "mines_path = 'data/sonar.mines'\n",
    "\n",
    "# Patterns for extracting train and test data\n",
    "train_pattern = r'\\*(CR|CM)\\d+:\\n\\{([\\d\\s\\.\\n]+)\\}'\n",
    "test_pattern = r'^(?!\\*)(CR|CM)\\d+:\\n\\{([\\d\\s\\.\\n]+)\\}'\n",
    "\n",
    "# Extracting train and test data\n",
    "rocks_train_df = extract_data(rocks_path, train_pattern)\n",
    "mines_train_df = extract_data(mines_path, train_pattern)\n",
    "rocks_train_df['Label'] = 'R'  \n",
    "mines_train_df['Label'] = 'M' \n",
    "train_df = pd.concat([rocks_train_df, mines_train_df], ignore_index=True).sample(frac=1).reset_index(drop=True)\n",
    "\n",
    "rocks_test_df = extract_data(rocks_path, test_pattern)\n",
    "mines_test_df = extract_data(mines_path, test_pattern)\n",
    "rocks_test_df['Label'] = 'R'  \n",
    "mines_test_df['Label'] = 'M' \n",
    "test_df = pd.concat([rocks_test_df, mines_test_df], ignore_index=True).sample(frac=1).reset_index(drop=True)\n",
    "\n",
    "print(len(train_df))\n",
    "print(len(test_df)) \n"
   ]
  },
  {
   "cell_type": "markdown",
   "metadata": {},
   "source": [
    "Partie 2"
   ]
  },
  {
   "cell_type": "markdown",
   "metadata": {},
   "source": [
    "##Apprentissage sur train"
   ]
  },
  {
   "cell_type": "code",
   "execution_count": 57,
   "metadata": {},
   "outputs": [],
   "source": [
    "import numpy as np\n",
    "\n",
    "def perceptron_batch(training_features, training_labels, epochs=22000, learning_rate=0.001):\n",
    "\n",
    "    # Initialisation des poids\n",
    "    weights = np.zeros(training_features.shape[1] + 1)\n",
    "    \n",
    "    # Entraînement\n",
    "    for _ in range(epochs):\n",
    "        # Initialisation du vecteur de mise à jour pour cette époque\n",
    "        update = np.zeros(training_features.shape[1] + 1)\n",
    "        \n",
    "        for inputs, label in zip(training_features, training_labels):\n",
    "            # Calcul de la prédiction\n",
    "            activation = np.dot(inputs, weights[1:]) + weights[0]\n",
    "            if activation >= 0:\n",
    "                prediction = 1\n",
    "            else:\n",
    "                prediction = -1\n",
    "            \n",
    "            # Accumulation de la mise à jour basée sur l'erreur\n",
    "            update[1:] += learning_rate * (label - prediction) * inputs\n",
    "            update[0] += learning_rate * (label - prediction)\n",
    "        \n",
    "        # Mise à jour des poids à la fin de l'époque\n",
    "        weights += update\n",
    "    \n",
    "    return weights\n",
    "\n",
    "# Préparation des données\n",
    "# Supposons que train_df est déjà défini et mélangé\n",
    "# Convertir les étiquettes 'R' et 'M' en valeurs numériques -1 et 1\n",
    "train_df['Label'] = train_df['Label'].apply(lambda x: 1 if x == 'M' else -1)\n",
    "test_df['Label'] = test_df['Label'].apply(lambda x: 1 if x == 'M' else -1)\n",
    "\n",
    "# Séparation des caractéristiques et des étiquettes\n",
    "train_features = train_df.iloc[:, :-1].values\n",
    "train_labels = train_df.iloc[:, -1].values\n",
    "\n",
    "# Entraînement du perceptron\n",
    "weights = perceptron_batch(train_features, train_labels)"
   ]
  },
  {
   "cell_type": "markdown",
   "metadata": {},
   "source": [
    "Calcul de Ea et de Eg"
   ]
  },
  {
   "cell_type": "code",
   "execution_count": 58,
   "metadata": {},
   "outputs": [
    {
     "name": "stdout",
     "output_type": "stream",
     "text": [
      "[-1  1  1 -1  1  1  1 -1 -1  1 -1  1  1  1 -1  1  1  1  1  1 -1  1  1  1\n",
      "  1 -1  1 -1 -1  1 -1  1 -1 -1  1  1  1 -1 -1 -1 -1 -1 -1  1 -1 -1  1  1\n",
      "  1 -1  1  1  1 -1 -1  1  1 -1 -1  1 -1 -1 -1  1  1 -1 -1  1 -1 -1  1 -1\n",
      "  1 -1  1  1  1  1  1 -1  1  1  1  1  1 -1  1 -1  1  1  1  1  1  1  1 -1\n",
      "  1 -1  1  1  1  1 -1 -1]\n",
      "[-1, 1, -1, 1, 1, 1, -1, -1, -1, 1, -1, -1, 1, 1, -1, 1, -1, 1, 1, -1, -1, 1, 1, 1, 1, -1, 1, -1, 1, 1, -1, 1, -1, -1, 1, 1, -1, -1, -1, 1, -1, -1, -1, 1, -1, -1, 1, 1, 1, 1, 1, -1, 1, -1, -1, 1, 1, 1, -1, 1, -1, -1, -1, 1, 1, 1, 1, 1, -1, -1, 1, -1, 1, -1, 1, 1, 1, 1, -1, -1, -1, 1, 1, -1, 1, -1, 1, -1, 1, 1, 1, 1, 1, 1, 1, -1, 1, -1, -1, -1, 1, -1, -1, -1]\n",
      "Erreur d'apprentissage (Ea) : 0.0\n",
      "Erreur de généralisation (Eg) : 0.1923076923076923\n",
      "Les poids du perceptron [-0.98       0.842751   2.1072314  0.3838012  1.1038062  0.7259872\n",
      "  1.4434456 -0.6594728 -1.5828186  0.0899288  1.0787674  0.38768\n",
      "  0.1341432  0.0255996  0.042866   0.5863472 -1.958266  -0.5572258\n",
      "  2.0306202 -0.378772  -0.0970566 -0.3937258  0.5972566 -0.440081\n",
      "  1.078278  -0.1139262 -0.1252908  0.1074978 -0.2024282 -0.19539\n",
      "  2.048143  -3.0649636  2.3248804 -1.6053052  0.743006  -0.4041242\n",
      " -0.2133034 -0.3860196 -0.2090698  1.7067118 -1.526431   0.636046\n",
      " -0.140197  -0.1147842 -0.6595438  1.1983514  1.035655  -1.0689164\n",
      "  2.105948   2.8900536 -1.2872816  0.5331192  0.5126696  0.30002\n",
      "  0.825407  -0.1197684 -0.2328594 -0.544665   0.3433368 -0.1490698\n",
      " -0.1637436]\n"
     ]
    }
   ],
   "source": [
    "def predict_perceptron(inputs, weights):\n",
    "    activation = np.dot(inputs, weights[1:]) + weights[0]\n",
    "    return 1 if activation >= 0 else -1\n",
    "\n",
    "# Fonction pour calculer la précision\n",
    "def calculate_accuracy(features, labels, weights):\n",
    "    predictions = [predict_perceptron(x, weights) for x in features]\n",
    "    correct_predictions = sum(pred == label for pred, label in zip(predictions, labels))\n",
    "    accuracy = correct_predictions / len(labels)\n",
    "    return accuracy\n",
    "\n",
    "# Convertir les étiquettes de l'ensemble de test en valeurs numériques -1 et 1\n",
    "# test_df['Label'] = test_df['Label'].apply(lambda x: 1 if x == 'M' else -1)\n",
    "\n",
    "# Séparer les caractéristiques et les étiquettes de l'ensemble de test\n",
    "test_features = test_df.iloc[:, :-1].values\n",
    "test_labels = test_df.iloc[:, -1].values\n",
    "\n",
    "print (test_labels)\n",
    "predictions = [predict_perceptron(x, weights) for x in test_features]\n",
    "print (predictions)\n",
    "# Calculer la précision sur l'ensemble d'entraînement et de test\n",
    "training_accuracy = calculate_accuracy(train_features, train_labels, weights)\n",
    "testing_accuracy = calculate_accuracy(test_features, test_labels, weights)\n",
    "\n",
    "# Calculer les erreurs d'apprentissage (Ea) et de généralisation (Eg)\n",
    "Ea = 1 - training_accuracy\n",
    "Eg = 1 - testing_accuracy\n",
    "\n",
    "print(f\"Erreur d'apprentissage (Ea) : {Ea}\")\n",
    "print(f\"Erreur de généralisation (Eg) : {Eg}\")\n",
    "\n",
    "print(\"Les poids du perceptron\",weights)"
   ]
  },
  {
   "cell_type": "markdown",
   "metadata": {},
   "source": [
    "Fonction de stabilité"
   ]
  },
  {
   "cell_type": "code",
   "execution_count": 59,
   "metadata": {},
   "outputs": [
    {
     "name": "stdout",
     "output_type": "stream",
     "text": [
      "[0.03666161187971247, 0.1672186978506818, -0.05038148598081701, -0.009165359455143154, 0.05965049762299453, 0.007729754812903349, -0.002168965686701239, 0.021634245022494183, 0.045805859551022954, 0.006841335479758372, 0.028455246265524613, -0.023492685040114206, 0.06810040308189756, 0.06265733368468047, 0.013523552468365395, 0.03803587343384066, -0.01623132799915774, 0.008042335191417324, 0.1284684886715685, -0.03217561629121448, 0.07141577406176314, 0.13282763219600344, 0.03142980891714381, 0.046213156787434644, 0.04629023850265363, 0.08627464181863251, 0.08248702066141066, 0.050756492785767306, -0.05801110738738641, 0.20261388007172682, 0.10841419895432172, 0.1304026125731042, 0.007441359997908242, 0.00014255995467257583, 0.09616320527108105, 0.04067017616195606, -0.014154321773546322, 0.053318402661172055, 0.17605211668319337, -0.10987461833133909, 0.025140511904148698, 0.030945614124010142, 0.06654454302776867, 0.09763893175006033, 0.057372142993354094, 0.11231781199791745, 0.16423151163534433, 0.02135908520593892, 0.12042269580187255, -0.009218821466760141, 0.06029081204124058, -0.10534737547047372, 0.06489550841873468, 0.05905422131394455, 0.00040610387946714624, 0.11835754249384405, 0.03979222977122416, -0.04335662826629079, 0.11095867882738396, 0.10266639295773451, 0.052452803890713114, 0.04688918152086197, 0.007769584353098697, 0.02976792620971672, 0.07343003608748833, -0.09055188285509339, -0.07474226052333796, 0.06127316022939819, 0.03950120294162878, 0.14910719515134105, 0.007867291952076636, 0.02490457648437938, 0.048348324110756825, 0.09589829040586408, 0.14613330105293054, 0.030317984360213615, 0.12424440482864149, 0.07983593435333212, -0.012573709547952491, 0.003453303287021876, -0.004613959227708704, 0.03684822819134533, 0.05679021971796642, -0.008394134711894891, 0.04896065254329376, 0.03353125390923916, 0.0445109076482863, 0.09047079036005169, 0.05878370610763194, 0.05748678622491958, 0.1278733564913932, 0.08486236001803808, 0.05371081947150443, 0.05128634944690313, 0.04022181768288601, 0.028314955270341093, 0.1209628965716152, 0.06816456336078987, -0.029043034284094632, -0.00619599892132186, 0.05971137071155849, -0.06331791162326737, 0.05463658281615476, 0.014626107736093342]\n"
     ]
    }
   ],
   "source": [
    "def calculate_stability(features, labels, weights):\n",
    "    norm_w = np.linalg.norm(weights[1:])  # Calcul de la norme du vecteur de poids (sans le biais)\n",
    "    stabilities = []\n",
    "    for x, y in zip(features, labels):\n",
    "        # Calcul de la marge fonctionnelle pour chaque exemple\n",
    "        gamma = y * (np.dot(weights[1:], x) + weights[0]) / norm_w\n",
    "        stabilities.append(gamma)\n",
    "    return stabilities\n",
    "\n",
    "# Calcul des stabilités pour l'ensemble de test\n",
    "test_stabilities = calculate_stability(test_features, test_labels, weights)\n",
    "\n",
    "# Afficher les stabilités des exemples de test\n",
    "print(test_stabilities)\n",
    "\n",
    "\n"
   ]
  },
  {
   "cell_type": "markdown",
   "metadata": {},
   "source": [
    "Graph"
   ]
  },
  {
   "cell_type": "code",
   "execution_count": 61,
   "metadata": {},
   "outputs": [
    {
     "data": {
      "image/png": "[encoded data removed]",
      "text/plain": [
       "<Figure size 1000x600 with 1 Axes>"
      ]
     },
     "metadata": {},
     "output_type": "display_data"
    }
   ],
   "source": [
    "import matplotlib.pyplot as plt\n",
    "\n",
    "# Définir les étiquettes pour les mines et les roches\n",
    "# Ici, nous simulons les étiquettes. Dans votre cas, utilisez les étiquettes réelles de vos données\n",
    "labels = ['Bien classé' if val > 0 else 'Mal classé' for val in test_stabilities]\n",
    "\n",
    "# Créer le graphique de stabilité\n",
    "plt.figure(figsize=(10, 6))\n",
    "\n",
    "# Barres pour les exemples classés comme mines\n",
    "plt.bar(range(len(test_stabilities)), [val if val > 0 else 0 for val in test_stabilities], \n",
    "        color='blue', label='Bien classé')\n",
    "\n",
    "# Barres pour les exemples classés comme roches\n",
    "plt.bar(range(len(test_stabilities)), [val if val < 0 else 0 for val in test_stabilities], \n",
    "        color='red', label='Mal classé')\n",
    "\n",
    "# Ajouter des légendes, des étiquettes et un titre\n",
    "plt.legend()\n",
    "plt.xlabel('Exemple')\n",
    "plt.ylabel('Stabilité')\n",
    "plt.title('Graphique de Stabilité pour les Données de Test')\n",
    "\n",
    "# Afficher le graphique\n",
    "plt.show()\n"
   ]
  }
 ],
 "metadata": {
  "kernelspec": {
   "display_name": "Python 3",
   "language": "python",
   "name": "python3"
  },
  "language_info": {
   "codemirror_mode": {
    "name": "ipython",
    "version": 3
   },
   "file_extension": ".py",
   "mimetype": "text/x-python",
   "name": "python",
   "nbconvert_exporter": "python",
   "pygments_lexer": "ipython3",
   "version": "3.10.8"
  }
 },
 "nbformat": 4,
 "nbformat_minor": 2
}
