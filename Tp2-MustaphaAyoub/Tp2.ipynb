{
 "cells": [
  {
   "attachments": {},
   "cell_type": "markdown",
   "metadata": {},
   "source": [
    "Partie 1\n",
    "#Chargement des données "
   ]
  },
  {
   "cell_type": "code",
   "execution_count": 456,
   "metadata": {},
   "outputs": [
    {
     "name": "stdout",
     "output_type": "stream",
     "text": [
      "104\n",
      "104\n"
     ]
    }
   ],
   "source": [
    "import pandas as pd\n",
    "import re\n",
    "\n",
    "def extract_data(input_path, pattern):\n",
    "    with open(input_path, 'r') as file:\n",
    "        content = file.read()\n",
    "    matches = re.findall(pattern, content, re.MULTILINE)\n",
    "    data = []\n",
    "    for match in matches:\n",
    "        numbers = match[1].replace('\\n', ' ').split()\n",
    "        numbers_float = [float(number) for number in numbers]\n",
    "        data.append(numbers_float)\n",
    "    return pd.DataFrame(data)\n",
    "\n",
    "rocks_path = 'data/sonar.rocks'\n",
    "mines_path = 'data/sonar.mines'\n",
    "\n",
    "# Patterns for extracting train and test data\n",
    "train_pattern = r'\\*(CR|CM)\\d+:\\n\\{([\\d\\s\\.\\n]+)\\}'\n",
    "test_pattern = r'^(?!\\*)(CR|CM)\\d+:\\n\\{([\\d\\s\\.\\n]+)\\}'\n",
    "\n",
    "# Extracting train and test data\n",
    "rocks_train_df = extract_data(rocks_path, train_pattern)\n",
    "mines_train_df = extract_data(mines_path, train_pattern)\n",
    "rocks_train_df['Label'] = 'R'  \n",
    "mines_train_df['Label'] = 'M' \n",
    "train_df = pd.concat([rocks_train_df, mines_train_df], ignore_index=True).sample(frac=1).reset_index(drop=True)\n",
    "\n",
    "rocks_test_df = extract_data(rocks_path, test_pattern)\n",
    "mines_test_df = extract_data(mines_path, test_pattern)\n",
    "rocks_test_df['Label'] = 'R'  \n",
    "mines_test_df['Label'] = 'M' \n",
    "test_df = pd.concat([rocks_test_df, mines_test_df], ignore_index=True).sample(frac=1).reset_index(drop=True)\n",
    "\n",
    "print(len(train_df))\n",
    "print(len(test_df)) \n"
   ]
  },
  {
   "attachments": {},
   "cell_type": "markdown",
   "metadata": {},
   "source": [
    "Partie 2"
   ]
  },
  {
   "attachments": {},
   "cell_type": "markdown",
   "metadata": {},
   "source": [
    "## Apprentissage sur train"
   ]
  },
  {
   "cell_type": "code",
   "execution_count": 457,
   "metadata": {},
   "outputs": [
    {
     "name": "stdout",
     "output_type": "stream",
     "text": [
      "[-1 -1  1 -1  1  1 -1  1  1  1 -1  1  1  1  1 -1  1  1  1 -1 -1  1  1 -1\n",
      " -1  1 -1  1 -1  1 -1  1 -1 -1  1 -1  1  1 -1  1  1  1 -1  1  1 -1  1 -1\n",
      " -1  1 -1  1 -1  1 -1 -1  1  1 -1  1  1  1 -1  1  1 -1  1  1 -1  1  1  1\n",
      " -1 -1  1  1  1  1  1 -1  1  1  1 -1  1 -1 -1  1 -1 -1  1  1 -1 -1  1  1\n",
      " -1  1  1  1  1 -1  1 -1]\n",
      "[ 1 -1 -1  1 -1 -1 -1  1  1 -1  1  1  1  1  1  1 -1  1  1  1  1 -1 -1 -1\n",
      "  1 -1 -1  1  1 -1 -1 -1  1 -1  1 -1  1 -1 -1 -1 -1 -1  1  1  1 -1 -1  1\n",
      " -1 -1  1  1 -1 -1  1 -1 -1  1  1  1  1  1  1  1  1  1  1  1 -1 -1 -1 -1\n",
      "  1 -1 -1 -1 -1 -1 -1 -1 -1 -1 -1  1  1  1 -1 -1  1 -1 -1 -1 -1 -1 -1 -1\n",
      "  1 -1  1  1  1  1 -1  1]\n",
      "[-5.64      1.494286  2.956714  1.893002  3.201548  3.988028  2.340756\n",
      " -0.170046 -3.55322   1.092888  2.533972  4.828372  2.397392  1.803896\n",
      "  1.565808  0.327156 -5.10859  -2.097738  1.30256   1.077734 -1.246864\n",
      "  0.507828  1.59125  -0.761862  1.415848  0.104242  0.02564  -0.740562\n",
      " -0.202982  1.957592  2.18339  -5.754716  1.425072  0.02868  -1.274088\n",
      " -0.246492 -3.29898  -2.609384  2.747962  1.053258 -3.698224  0.794434\n",
      " -0.074728  0.07778   2.192948  4.801626  3.360534  3.025102  4.536054\n",
      "  4.117864 -0.16807   0.531794  0.480176  0.232716  0.528076 -0.160308\n",
      " -0.05752  -0.23955   0.326474  0.225474  0.052214]\n"
     ]
    }
   ],
   "source": [
    "import numpy as np\n",
    "\n",
    "def perceptron_batch(training_features, training_labels, epochs=650, learning_rate=0.01):\n",
    "    \"\"\"\n",
    "    Entraîne un perceptron en utilisant l'algorithme batch.\n",
    "\n",
    "    :param training_features: numpy.ndarray, les caractéristiques d'entraînement.\n",
    "    :param training_labels: numpy.ndarray, les étiquettes d'entraînement (doivent être -1 ou 1).\n",
    "    :param threshold: int, le nombre d'itérations pour l'entraînement.\n",
    "    :param learning_rate: float, le taux d'apprentissage.\n",
    "    :return: numpy.ndarray, les poids appris.\n",
    "    \"\"\"\n",
    "    # Initialisation des poids\n",
    "    weights = np.zeros(training_features.shape[1] + 1)\n",
    "    \n",
    "    # Entraînement\n",
    "    for _ in range(epochs):\n",
    "        # Initialisation du vecteur de mise à jour pour cette époque\n",
    "        update = np.zeros(training_features.shape[1] + 1)\n",
    "        \n",
    "        for inputs, label in zip(training_features, training_labels):\n",
    "            # Calcul de la prédiction\n",
    "            activation = np.dot(inputs, weights[1:]) + weights[0]\n",
    "            if activation >= 0:\n",
    "                prediction = 1\n",
    "            else:\n",
    "                prediction = -1\n",
    "            \n",
    "            # Accumulation de la mise à jour basée sur l'erreur\n",
    "            update[1:] += learning_rate * (label - prediction) * inputs\n",
    "            update[0] += learning_rate * (label - prediction)\n",
    "        \n",
    "        # Mise à jour des poids à la fin de l'époque\n",
    "        weights += update\n",
    "    \n",
    "    return weights\n",
    "\n",
    "# Préparation des données\n",
    "# Supposons que train_df est déjà défini et mélangé\n",
    "# Convertir les étiquettes 'R' et 'M' en valeurs numériques -1 et 1\n",
    "train_df['Label'] = train_df['Label'].apply(lambda x: 1 if x == 'M' else -1)\n",
    "test_df['Label'] = test_df['Label'].apply(lambda x: 1 if x == 'M' else -1)\n",
    "\n",
    "# Séparation des caractéristiques et des étiquettes\n",
    "test_features = test_df.iloc[:, :-1].values\n",
    "test_labels = test_df.iloc[:, -1].values\n",
    "print(test_labels)\n",
    "\n",
    "# Séparation des caractéristiques et des étiquettes\n",
    "train_features = train_df.iloc[:, :-1].values\n",
    "train_labels = train_df.iloc[:, -1].values\n",
    "print(train_labels)\n",
    "# Entraînement du perceptron\n",
    "weights = perceptron_batch(train_features, train_labels)\n",
    "\n",
    "print(weights)\n"
   ]
  },
  {
   "attachments": {},
   "cell_type": "markdown",
   "metadata": {},
   "source": [
    "Test sur l'ensemble de test"
   ]
  },
  {
   "cell_type": "code",
   "execution_count": 458,
   "metadata": {},
   "outputs": [
    {
     "name": "stdout",
     "output_type": "stream",
     "text": [
      "[-1, -1, -1, -1, -1, 1, -1, -1, -1, -1, -1, -1, -1, 1, 1, -1, 1, -1, 1, -1, -1, -1, 1, -1, -1, -1, -1, -1, -1, -1, -1, 1, -1, -1, -1, -1, 1, 1, -1, 1, -1, 1, -1, 1, -1, -1, -1, -1, -1, -1, -1, -1, -1, -1, -1, -1, -1, 1, -1, 1, 1, 1, -1, -1, 1, -1, -1, -1, -1, 1, -1, 1, -1, -1, 1, -1, -1, -1, -1, -1, 1, 1, 1, -1, 1, -1, -1, -1, -1, -1, 1, -1, -1, -1, -1, -1, -1, 1, 1, -1, -1, -1, -1, -1]\n"
     ]
    }
   ],
   "source": [
    "# Supposons que `weights` est le vecteur de poids appris du perceptron\n",
    "def predict_perceptron(inputs, weights):\n",
    "    activation = np.dot(inputs, weights[1:]) + weights[0]\n",
    "    return 1 if activation >= 0 else -1\n",
    "\n",
    "# Supposons que test_df contient uniquement les caractéristiques sans les étiquettes\n",
    "test_features = test_df.iloc[:, :60].values  # Sélectionne uniquement les colonnes de caractéristiques\n",
    "\n",
    "# Faire des prédictions\n",
    "predictions = [predict_perceptron(x, weights) for x in test_features]\n",
    "\n",
    "# Affichage des prédictions\n",
    "print(predictions)\n"
   ]
  },
  {
   "attachments": {},
   "cell_type": "markdown",
   "metadata": {},
   "source": [
    "Calcul de Ea et de Eg"
   ]
  },
  {
   "cell_type": "code",
   "execution_count": 459,
   "metadata": {},
   "outputs": [
    {
     "name": "stdout",
     "output_type": "stream",
     "text": [
      "Erreur d'apprentissage (Ea) : 0.29807692307692313\n",
      "Erreur de généralisation (Eg) : 0.2596153846153846\n",
      "\n",
      " Poids appris du perceptron :\n",
      "[-5.64      1.494286  2.956714  1.893002  3.201548  3.988028  2.340756\n",
      " -0.170046 -3.55322   1.092888  2.533972  4.828372  2.397392  1.803896\n",
      "  1.565808  0.327156 -5.10859  -2.097738  1.30256   1.077734 -1.246864\n",
      "  0.507828  1.59125  -0.761862  1.415848  0.104242  0.02564  -0.740562\n",
      " -0.202982  1.957592  2.18339  -5.754716  1.425072  0.02868  -1.274088\n",
      " -0.246492 -3.29898  -2.609384  2.747962  1.053258 -3.698224  0.794434\n",
      " -0.074728  0.07778   2.192948  4.801626  3.360534  3.025102  4.536054\n",
      "  4.117864 -0.16807   0.531794  0.480176  0.232716  0.528076 -0.160308\n",
      " -0.05752  -0.23955   0.326474  0.225474  0.052214]\n"
     ]
    }
   ],
   "source": [
    "# Fonction pour calculer la précision\n",
    "def calculate_accuracy(features, labels, weights):\n",
    "    predictions = [predict_perceptron(x, weights) for x in features]\n",
    "    correct_predictions = sum(pred == label for pred, label in zip(predictions, labels))\n",
    "    accuracy = correct_predictions / len(labels)\n",
    "    return accuracy\n",
    "\n",
    "# Convertir les étiquettes de l'ensemble de test en valeurs numériques -1 et 1\n",
    "test_df['Label'] = test_df['Label'].apply(lambda x: 1 if x == 'M' else -1)\n",
    "\n",
    "# Séparer les caractéristiques et les étiquettes de l'ensemble de test\n",
    "test_features = test_df.iloc[:, :-1].values\n",
    "test_labels = test_df.iloc[:, -1].values\n",
    "\n",
    "# Calculer la précision sur l'ensemble d'entraînement et de test\n",
    "training_accuracy = calculate_accuracy(features, labels, weights)\n",
    "testing_accuracy = calculate_accuracy(test_features, test_labels, weights)\n",
    "\n",
    "# Calculer les erreurs d'apprentissage (Ea) et de généralisation (Eg)\n",
    "Ea = 1 - training_accuracy\n",
    "Eg = 1 - testing_accuracy\n",
    "\n",
    "print(f\"Erreur d'apprentissage (Ea) : {Ea}\")\n",
    "print(f\"Erreur de généralisation (Eg) : {Eg}\")\n",
    "\n",
    "print(\"\\n Poids appris du perceptron :\")\n",
    "print(weights)"
   ]
  },
  {
   "attachments": {},
   "cell_type": "markdown",
   "metadata": {},
   "source": [
    "- ### C) Calculer les stabilités des P exemples de « test » selon la formule de gamma (distance a l’hyperplan séparateur avec les poids normés)"
   ]
  },
  {
   "cell_type": "code",
   "execution_count": 460,
   "metadata": {},
   "outputs": [
    {
     "name": "stdout",
     "output_type": "stream",
     "text": [
      "Stabilités des exemples de test :\n",
      "[ 0.29466534  0.31836255  0.12062277  0.10627179  0.03086409 -0.28112954\n",
      "  0.4981367   0.13930754  0.12558862  0.03302966  0.30927429  0.24833667\n",
      "  0.01007485 -0.2251627  -0.11881931  0.17809982 -0.20599282  0.22758456\n",
      " -0.00705391  0.21743219  0.28365681  0.27361878 -0.16657451  0.34872243\n",
      "  0.20677133  0.16188867  0.32257013  0.00847662  0.2571353   0.00652868\n",
      "  0.26531592 -0.13953328  0.15165054  0.22546715  0.03473821  0.43927665\n",
      " -0.03396545 -0.37184477  0.39248186 -0.1386972   0.09277681 -0.04274625\n",
      "  0.47235635 -0.02614949  0.03375871  0.15250837  0.07786912  0.28581601\n",
      "  0.48041133  0.17877266  0.00793809  0.12080523  0.27981981  0.02154353\n",
      "  0.27400147  0.10035768  0.1614813  -0.04215328  0.05695216 -0.16295033\n",
      " -0.08191579 -0.05790533  0.32165871  0.21085309 -0.34335952  0.12726808\n",
      "  0.22744622  0.11488708  0.28943122 -0.0202661   0.05011603 -0.0164231\n",
      "  0.19702652  0.55240042 -0.10198683  0.08457264  0.09101883  0.25267805\n",
      "  0.01154009  0.21045009 -0.03529453 -0.11613151 -0.08307421  0.27019773\n",
      " -0.09437331  0.2938194   0.1024408   0.1551993   0.30004934  0.09782174\n",
      " -0.29329383  0.06728856  0.10358597  0.36877502  0.18918817  0.11537429\n",
      "  0.12453469 -0.18385273 -0.30458128  0.12831865  0.0878881   0.32109813\n",
      "  0.11595697  0.29551476]\n"
     ]
    }
   ],
   "source": [
    "import numpy as np\n",
    "\n",
    "def calculate_stabilities(test_features, test_labels, weights):\n",
    "    \"\"\"\n",
    "    Calcule la stabilité de chaque exemple de test.\n",
    "\n",
    "    :param test_features: numpy.ndarray, les caractéristiques de test (sans biais ajouté).\n",
    "    :param test_labels: numpy.ndarray, les étiquettes de test (-1 ou 1).\n",
    "    :param weights: numpy.ndarray, les poids appris (y compris le biais).\n",
    "    :return: numpy.ndarray, les stabilités de chaque exemple de test.\n",
    "    \"\"\"\n",
    "    # Séparation du poids du biais et des poids des caractéristiques\n",
    "    b, w = weights[0], weights[1:]\n",
    "    \n",
    "    # Calcul de la norme des poids (sans le biais)\n",
    "    norm_w = np.linalg.norm(w)\n",
    "    \n",
    "    # Calcul des activations (y_i * (w . x_i + b))\n",
    "    activations = test_labels * (np.dot(test_features, w) + b)\n",
    "    \n",
    "    # Calcul des stabilités (activation / norm_w)\n",
    "    stabilities = activations / norm_w\n",
    "    \n",
    "    return stabilities\n",
    "\n",
    "# Supposons que test_df est déjà défini et contient les données de test\n",
    "# Conversion des étiquettes 'R' et 'M' en -1 et 1 pour les données de test\n",
    "test_df['Label'] = test_df['Label'].apply(lambda x: 1 if x == 'M' else -1)\n",
    "\n",
    "# Séparation des caractéristiques et des étiquettes pour les données de test\n",
    "test_features = test_df.iloc[:, :-1].values\n",
    "test_labels = test_df.iloc[:, -1].values\n",
    "\n",
    "# Calcul des stabilités\n",
    "stabilities = calculate_stabilities(test_features, test_labels, weights)\n",
    "\n",
    "# Affichage des stabilités\n",
    "print(\"Stabilités des exemples de test :\")\n",
    "print(stabilities)\n"
   ]
  },
  {
   "cell_type": "code",
   "execution_count": 461,
   "metadata": {},
   "outputs": [
    {
     "name": "stdout",
     "output_type": "stream",
     "text": [
      "[-1 -1 -1 -1 -1 -1 -1 -1 -1 -1 -1 -1 -1 -1 -1 -1 -1 -1 -1 -1 -1 -1 -1 -1\n",
      " -1 -1 -1 -1 -1 -1 -1 -1 -1 -1 -1 -1 -1 -1 -1 -1 -1 -1 -1 -1 -1 -1 -1 -1\n",
      " -1 -1 -1 -1 -1 -1 -1 -1 -1 -1 -1 -1 -1 -1 -1 -1 -1 -1 -1 -1 -1 -1 -1 -1\n",
      " -1 -1 -1 -1 -1 -1 -1 -1 -1 -1 -1 -1 -1 -1 -1 -1 -1 -1 -1 -1 -1 -1 -1 -1\n",
      " -1 -1 -1 -1 -1 -1 -1 -1]\n",
      "[ 1 -1  1  1 -1  1  1  1 -1  1 -1  1 -1  1  1  1 -1 -1 -1 -1 -1 -1 -1  1\n",
      "  1  1  1 -1  1  1 -1  1  1 -1  1  1 -1 -1 -1  1  1 -1 -1  1 -1 -1  1 -1\n",
      " -1 -1  1 -1  1  1 -1  1 -1  1 -1 -1 -1 -1  1  1 -1  1  1 -1 -1 -1  1  1\n",
      " -1 -1  1 -1  1 -1  1  1 -1 -1 -1 -1 -1  1  1  1 -1 -1 -1 -1 -1 -1  1 -1\n",
      "  1  1 -1  1 -1 -1  1  1]\n"
     ]
    },
    {
     "data": {
      "image/png": "[encoded data removed]",
      "text/plain": [
       "<Figure size 720x432 with 1 Axes>"
      ]
     },
     "metadata": {
      "needs_background": "light"
     },
     "output_type": "display_data"
    }
   ],
   "source": [
    "import numpy as np\n",
    "import matplotlib.pyplot as plt\n",
    "\n",
    "print(test_labels)\n",
    "print(train_labels)\n",
    "\n",
    "# Exemple des caractéristiques des exemples de test\n",
    "test_features = train_df.iloc[:, :-1].values\n",
    "\n",
    "# Exemple des étiquettes réelles des exemples de test\n",
    "test_labels = train_df.iloc[:, -1].values\n",
    "\n",
    "# Normalize the weights (excluding the bias term)\n",
    "norm_weights = np.linalg.norm(weights[1:])\n",
    "\n",
    "# Calculate the signed distance from the decision boundary for each example\n",
    "signed_distances = (np.dot(test_features, weights[1:]) + weights[0]) / norm_weights\n",
    "\n",
    "# Multiply by labels to get stabilities\n",
    "stabilities = signed_distances * test_labels\n",
    "\n",
    "# Plotting\n",
    "plt.figure(figsize=(10, 6))\n",
    "for label in np.unique(test_labels):\n",
    "    plt.scatter(np.arange(len(stabilities))[test_labels == label], stabilities[test_labels == label], label=f'Class {label}')\n",
    "plt.axhline(0, color='grey', linestyle='--')\n",
    "plt.xlabel('Example index')\n",
    "plt.ylabel('Stability')\n",
    "plt.title('Stability of Test Examples')\n",
    "plt.legend()\n",
    "plt.show()"
   ]
  },
  {
   "attachments": {},
   "cell_type": "markdown",
   "metadata": {},
   "source": [
    "- ## D) Graphique des stabilités\n"
   ]
  },
  {
   "cell_type": "code",
   "execution_count": 462,
   "metadata": {},
   "outputs": [
    {
     "data": {
      "image/png": "[encoded data removed]",
      "text/plain": [
       "<Figure size 1008x504 with 2 Axes>"
      ]
     },
     "metadata": {
      "needs_background": "light"
     },
     "output_type": "display_data"
    }
   ],
   "source": [
    "d = signed_distances\n",
    "\n",
    "# Plot the data\n",
    "plt.figure(figsize=(14, 7))\n",
    "\n",
    "# Plot for (a)\n",
    "plt.subplot(1, 2, 1)\n",
    "plt.scatter(mu[t == 1], d[t == 1], c='black', label='t^u = +1')\n",
    "plt.scatter(mu[t == -1], d[t == -1], c='grey', label='t^u = -1')\n",
    "plt.title('(a) Training Set')\n",
    "plt.xlabel('µ')\n",
    "plt.ylabel('d^u')\n",
    "plt.axhline(0, color='black', linewidth=0.5)\n",
    "plt.legend()\n",
    "\n",
    "# Plot for (b) could be another condition or dataset, we'll use the same data for this example\n",
    "plt.subplot(1, 2, 2)\n",
    "plt.scatter(mu[t == 1], d[t == 1], c='black', label='t^u = +1')\n",
    "plt.scatter(mu[t == -1], d[t == -1], c='grey', label='t^u = -1')\n",
    "plt.title('(b)')\n",
    "plt.xlabel('µ')\n",
    "plt.ylabel('d^u')\n",
    "plt.axhline(0, color='black', linewidth=0.5)\n",
    "plt.legend()\n",
    "\n",
    "plt.tight_layout()\n",
    "plt.show()"
   ]
  }
 ],
 "metadata": {
  "kernelspec": {
   "display_name": "Python 3",
   "language": "python",
   "name": "python3"
  },
  "language_info": {
   "codemirror_mode": {
    "name": "ipython",
    "version": 3
   },
   "file_extension": ".py",
   "mimetype": "text/x-python",
   "name": "python",
   "nbconvert_exporter": "python",
   "pygments_lexer": "ipython3",
   "version": "3.10.8"
  }
 },
 "nbformat": 4,
 "nbformat_minor": 2
}
