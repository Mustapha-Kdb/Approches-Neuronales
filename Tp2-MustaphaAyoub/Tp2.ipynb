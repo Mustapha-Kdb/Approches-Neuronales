{
 "cells": [
  {
   "cell_type": "markdown",
   "metadata": {},
   "source": [
    "Partie 1\n",
    "#Chargement des données "
   ]
  },
  {
   "cell_type": "code",
   "execution_count": 589,
   "metadata": {},
   "outputs": [
    {
     "name": "stdout",
     "output_type": "stream",
     "text": [
      "104\n",
      "104\n"
     ]
    }
   ],
   "source": [
    "import pandas as pd\n",
    "import re\n",
    "\n",
    "def extract_data(input_path, pattern):\n",
    "    with open(input_path, 'r') as file:\n",
    "        content = file.read()\n",
    "    matches = re.findall(pattern, content, re.MULTILINE)\n",
    "    data = []\n",
    "    for match in matches:\n",
    "        numbers = match[1].replace('\\n', ' ').split()\n",
    "        numbers_float = [float(number) for number in numbers]\n",
    "        data.append(numbers_float)\n",
    "    return pd.DataFrame(data)\n",
    "\n",
    "rocks_path = 'data/sonar.rocks'\n",
    "mines_path = 'data/sonar.mines'\n",
    "\n",
    "# Patterns for extracting train and test data\n",
    "train_pattern = r'\\*(CR|CM)\\d+:\\n\\{([\\d\\s\\.\\n]+)\\}'\n",
    "test_pattern = r'^(?!\\*)(CR|CM)\\d+:\\n\\{([\\d\\s\\.\\n]+)\\}'\n",
    "\n",
    "# Extracting train and test data\n",
    "rocks_train_df = extract_data(rocks_path, train_pattern)\n",
    "mines_train_df = extract_data(mines_path, train_pattern)\n",
    "rocks_train_df['Label'] = 'R'  \n",
    "mines_train_df['Label'] = 'M' \n",
    "train_df = pd.concat([rocks_train_df, mines_train_df], ignore_index=True).sample(frac=1).reset_index(drop=True)\n",
    "\n",
    "rocks_test_df = extract_data(rocks_path, test_pattern)\n",
    "mines_test_df = extract_data(mines_path, test_pattern)\n",
    "rocks_test_df['Label'] = 'R'  \n",
    "mines_test_df['Label'] = 'M' \n",
    "test_df = pd.concat([rocks_test_df, mines_test_df], ignore_index=True).sample(frac=1).reset_index(drop=True)\n",
    "\n",
    "print(len(train_df))\n",
    "print(len(test_df)) \n"
   ]
  },
  {
   "cell_type": "markdown",
   "metadata": {},
   "source": [
    "Partie 2"
   ]
  },
  {
   "cell_type": "markdown",
   "metadata": {},
   "source": [
    "##Apprentissage sur train"
   ]
  },
  {
   "cell_type": "code",
   "execution_count": 590,
   "metadata": {},
   "outputs": [
    {
     "name": "stdout",
     "output_type": "stream",
     "text": [
      "Poids appris du perceptron :\n",
      "[-0.97       0.8420278  2.0658004  0.3804708  1.1042078  0.7305548\n",
      "  1.4228062 -0.6529304 -1.560438   0.078951   1.051963   0.4017898\n",
      "  0.1314612  0.025631   0.030759   0.60702   -1.9347328 -0.5534312\n",
      "  2.0097548 -0.3752016 -0.0929494 -0.3728288  0.580748  -0.4330444\n",
      "  1.0691756 -0.1235372 -0.12027    0.0988588 -0.1897708 -0.1889602\n",
      "  2.0169582 -3.0205064  2.2726612 -1.5599698  0.7229634 -0.3956484\n",
      " -0.2107238 -0.384936  -0.1931328  1.6621272 -1.499479   0.6216998\n",
      " -0.1415718 -0.10346   -0.63842    1.1927348  1.0241594 -1.0331272\n",
      "  2.0756532  2.8527744 -1.2443966  0.5248746  0.503502   0.2882028\n",
      "  0.8085986 -0.119122  -0.2255426 -0.5310398  0.3384052 -0.1432184\n",
      " -0.1570006]\n"
     ]
    }
   ],
   "source": [
    "import numpy as np\n",
    "\n",
    "def perceptron_batch(training_features, training_labels, epochs=22000, learning_rate=0.001):\n",
    "    \"\"\"\n",
    "    Entraîne un perceptron en utilisant l'algorithme batch.\n",
    "\n",
    "    :param training_features: numpy.ndarray, les caractéristiques d'entraînement.\n",
    "    :param training_labels: numpy.ndarray, les étiquettes d'entraînement (doivent être -1 ou 1).\n",
    "    :param threshold: int, le nombre d'itérations pour l'entraînement.\n",
    "    :param learning_rate: float, le taux d'apprentissage.\n",
    "    :return: numpy.ndarray, les poids appris.\n",
    "    \"\"\"\n",
    "    # Initialisation des poids\n",
    "    weights = np.zeros(training_features.shape[1] + 1)\n",
    "    \n",
    "    # Entraînement\n",
    "    for _ in range(epochs):\n",
    "        # Initialisation du vecteur de mise à jour pour cette époque\n",
    "        update = np.zeros(training_features.shape[1] + 1)\n",
    "        \n",
    "        for inputs, label in zip(training_features, training_labels):\n",
    "            # Calcul de la prédiction\n",
    "            activation = np.dot(inputs, weights[1:]) + weights[0]\n",
    "            if activation >= 0:\n",
    "                prediction = 1\n",
    "            else:\n",
    "                prediction = -1\n",
    "            \n",
    "            # Accumulation de la mise à jour basée sur l'erreur\n",
    "            update[1:] += learning_rate * (label - prediction) * inputs\n",
    "            update[0] += learning_rate * (label - prediction)\n",
    "        \n",
    "        # Mise à jour des poids à la fin de l'époque\n",
    "        weights += update\n",
    "    \n",
    "    return weights\n",
    "\n",
    "# Préparation des données\n",
    "# Supposons que train_df est déjà défini et mélangé\n",
    "# Convertir les étiquettes 'R' et 'M' en valeurs numériques -1 et 1\n",
    "train_df['Label'] = train_df['Label'].apply(lambda x: 1 if x == 'M' else -1)\n",
    "test_df['Label'] = test_df['Label'].apply(lambda x: 1 if x == 'M' else -1)\n",
    "\n",
    "# Séparation des caractéristiques et des étiquettes\n",
    "features = train_df.iloc[:, :-1].values\n",
    "labels = train_df.iloc[:, -1].values\n",
    "\n",
    "# Entraînement du perceptron\n",
    "weights = perceptron_batch(features, labels)\n",
    "\n",
    "print(\"Poids appris du perceptron :\")\n",
    "print(weights)"
   ]
  },
  {
   "cell_type": "markdown",
   "metadata": {},
   "source": [
    "Test sur l'ensemble de test"
   ]
  },
  {
   "cell_type": "code",
   "execution_count": 591,
   "metadata": {},
   "outputs": [],
   "source": [
    "# # Supposons que `weights` est le vecteur de poids appris du perceptron\n",
    "# def predict_perceptron(inputs, weights):\n",
    "#     activation = np.dot(inputs, weights[1:]) + weights[0]\n",
    "#     return 1 if activation >= 0 else -1\n",
    "\n",
    "# # Supposons que test_df contient uniquement les caractéristiques sans les étiquettes\n",
    "# test_features = test_df.iloc[:, :60].values  # Sélectionne uniquement les colonnes de caractéristiques\n",
    "\n",
    "# # Faire des prédictions\n",
    "# predictions = [predict_perceptron(x, weights) for x in test_features]\n",
    "\n",
    "# # Affichage des prédictions\n",
    "# print(predictions)\n"
   ]
  },
  {
   "cell_type": "markdown",
   "metadata": {},
   "source": [
    "Calcul de Ea et de Eg"
   ]
  },
  {
   "cell_type": "code",
   "execution_count": 592,
   "metadata": {},
   "outputs": [
    {
     "name": "stdout",
     "output_type": "stream",
     "text": [
      "[ 1 -1  1  1  1 -1 -1  1 -1 -1  1 -1  1 -1  1  1  1  1  1 -1 -1 -1 -1 -1\n",
      " -1  1  1 -1  1  1  1  1 -1  1 -1 -1  1 -1  1 -1  1  1 -1  1  1  1  1 -1\n",
      " -1 -1 -1  1  1  1  1 -1 -1  1 -1  1  1  1  1  1  1  1  1 -1 -1  1  1  1\n",
      "  1 -1  1  1  1  1 -1  1  1 -1  1  1  1  1 -1  1 -1 -1 -1 -1  1  1 -1 -1\n",
      " -1  1  1 -1  1  1 -1  1]\n",
      "[1, -1, 1, 1, -1, -1, -1, 1, -1, -1, 1, -1, 1, 1, 1, 1, 1, 1, 1, -1, -1, -1, -1, -1, 1, 1, 1, -1, 1, 1, 1, 1, -1, 1, -1, -1, 1, 1, 1, -1, 1, -1, 1, 1, -1, 1, 1, -1, -1, -1, -1, 1, 1, -1, 1, -1, 1, 1, -1, -1, 1, 1, 1, 1, 1, 1, 1, -1, -1, -1, 1, 1, -1, -1, -1, 1, 1, -1, -1, 1, 1, -1, -1, 1, 1, 1, -1, 1, -1, -1, 1, -1, 1, -1, 1, 1, -1, -1, 1, 1, -1, 1, -1, 1]\n",
      "Erreur d'apprentissage (Ea) : 0.09615384615384615\n",
      "Erreur de généralisation (Eg) : 0.21153846153846156\n"
     ]
    }
   ],
   "source": [
    "def predict_perceptron(inputs, weights):\n",
    "    activation = np.dot(inputs, weights[1:]) + weights[0]\n",
    "    return 1 if activation >= 0 else -1\n",
    "\n",
    "# Fonction pour calculer la précision\n",
    "def calculate_accuracy(features, labels, weights):\n",
    "    predictions = [predict_perceptron(x, weights) for x in features]\n",
    "    correct_predictions = sum(pred == label for pred, label in zip(predictions, labels))\n",
    "    accuracy = correct_predictions / len(labels)\n",
    "    return accuracy\n",
    "\n",
    "# Convertir les étiquettes de l'ensemble de test en valeurs numériques -1 et 1\n",
    "# test_df['Label'] = test_df['Label'].apply(lambda x: 1 if x == 'M' else -1)\n",
    "\n",
    "# Séparer les caractéristiques et les étiquettes de l'ensemble de test\n",
    "test_features = test_df.iloc[:, :-1].values\n",
    "test_labels = test_df.iloc[:, -1].values\n",
    "\n",
    "print (test_labels)\n",
    "predictions = [predict_perceptron(x, weights) for x in test_features]\n",
    "print (predictions)\n",
    "# Calculer la précision sur l'ensemble d'entraînement et de test\n",
    "training_accuracy = calculate_accuracy(features, labels, weights)\n",
    "testing_accuracy = calculate_accuracy(test_features, test_labels, weights)\n",
    "\n",
    "# Calculer les erreurs d'apprentissage (Ea) et de généralisation (Eg)\n",
    "Ea = 1 - training_accuracy\n",
    "Eg = 1 - testing_accuracy\n",
    "\n",
    "print(f\"Erreur d'apprentissage (Ea) : {Ea}\")\n",
    "print(f\"Erreur de généralisation (Eg) : {Eg}\")"
   ]
  },
  {
   "cell_type": "markdown",
   "metadata": {},
   "source": [
    "Fonction de stabilité"
   ]
  },
  {
   "cell_type": "code",
   "execution_count": 593,
   "metadata": {},
   "outputs": [
    {
     "name": "stdout",
     "output_type": "stream",
     "text": [
      "[0.05046374750750946, 0.09535031239385663, 0.13516027067689013, 0.008768296798196715, -0.10115592419810883, 0.05656827866001008, 0.02442190467127189, 0.06156800047171571, 0.011592605466375775, 0.05744400884917563, 0.14983821423896235, 0.052919070848854, 0.061120387501338864, -0.0020709419757585583, 0.03220157605122247, 0.12732737396210353, 0.13133833910823467, 0.059243832850231076, 0.04746548408476879, 0.028708402649697116, 0.03603391489865992, 0.013705342505812061, 0.031677350696201305, 0.11093351773661679, -0.04427656907116902, 0.054182339792491215, 0.08746923950006333, 0.04471441442347073, 0.10118167625743209, 0.04456263752668724, 0.04387946220911927, 0.06208872746262407, 0.11010162007547784, 0.05878701308205566, 0.037548507758852816, 0.006760312766670201, 0.1328949972725936, -0.0012139349952312456, 0.008986281262822134, 0.06348714620050055, 0.040299643211831555, -0.013233204814759016, -0.09326500537014659, 0.055687162060207594, -0.0017743986122246184, 0.06550529545789265, 0.10479906350994336, 0.10600427505054695, 0.05045872202050576, 0.05303420699722771, 0.17567002085051955, 0.03220500775851643, 0.06012898145978832, -0.01333591940501904, 0.02254915584280291, 0.09087411221509199, -0.012278234024124746, 0.0819491434772713, 0.026951148426511896, -0.010485638737086363, 0.06383495752139494, 0.03486829993517516, 0.04841742451055174, 0.0683949219937748, 0.17087454161882004, 0.009961085944097593, 0.05049697879457964, 0.023903374698803156, 0.05173207992838156, -0.0017046121714994061, 0.12291888275085551, 0.12443671890690548, -0.06123038924712574, 0.021377103746322654, -0.021024614670351906, 0.07107069238258883, 0.07608143483378449, -0.047636632776425256, 0.04676280951686921, 0.03984703228423026, 0.1673966496609637, 0.08404501517934589, -0.0032873481814925548, 0.041611620709794635, 0.12300049432966521, 0.08462123831601305, 0.027365443721431144, 0.09781460139290538, 0.06663460159868695, 0.14815550758029625, -0.010087403799472152, 0.07071255394130146, 0.20634756718613784, -0.0278962669480892, -0.061608252024763284, -0.11187485546046291, 0.004705798466346431, -0.005671480822041126, 0.13122065716321363, -0.07653554359796841, -0.029586507870237137, 0.010133412382189327, 0.0020549609831809934, 0.04739060304774443]\n"
     ]
    }
   ],
   "source": [
    "def calculate_stability(features, labels, weights):\n",
    "    norm_w = np.linalg.norm(weights[1:])  # Calcul de la norme du vecteur de poids (sans le biais)\n",
    "    stabilities = []\n",
    "    for x, y in zip(features, labels):\n",
    "        # Calcul de la marge fonctionnelle pour chaque exemple\n",
    "        gamma = y * (np.dot(weights[1:], x) + weights[0]) / norm_w\n",
    "        stabilities.append(gamma)\n",
    "    return stabilities\n",
    "\n",
    "# Calcul des stabilités pour l'ensemble de test\n",
    "test_stabilities = calculate_stability(test_features, test_labels, weights)\n",
    "\n",
    "# Afficher les stabilités des exemples de test\n",
    "print(test_stabilities)\n"
   ]
  },
  {
   "cell_type": "markdown",
   "metadata": {},
   "source": [
    "Graph"
   ]
  },
  {
   "cell_type": "code",
   "execution_count": 594,
   "metadata": {},
   "outputs": [
    {
     "data": {
      "image/png": "[encoded data removed]",
      "text/plain": [
       "<Figure size 1000x600 with 1 Axes>"
      ]
     },
     "metadata": {},
     "output_type": "display_data"
    }
   ],
   "source": [
    "import matplotlib.pyplot as plt\n",
    "\n",
    "# Calcul des stabilités pour l'ensemble de test (réutilisation du code précédent)\n",
    "test_stabilities = calculate_stability(test_features, test_labels, weights)\n",
    "\n",
    "# Création du graphique des stabilités\n",
    "plt.figure(figsize=(10, 6))\n",
    "plt.plot(test_stabilities, marker='o', linestyle='None', markersize=5, label='Stabilité')\n",
    "plt.axhline(0, color='red', linestyle='--')  # Ligne pour la marge de stabilité à 0\n",
    "plt.title(\"Graphique des stabilités des exemples de test\")\n",
    "plt.xlabel(\"Indice de l'exemple\")\n",
    "plt.ylabel(\"Stabilité (distance à l'hyperplan)\")\n",
    "plt.legend()\n",
    "plt.show()"
   ]
  }
 ],
 "metadata": {
  "kernelspec": {
   "display_name": "Python 3",
   "language": "python",
   "name": "python3"
  },
  "language_info": {
   "codemirror_mode": {
    "name": "ipython",
    "version": 3
   },
   "file_extension": ".py",
   "mimetype": "text/x-python",
   "name": "python",
   "nbconvert_exporter": "python",
   "pygments_lexer": "ipython3",
   "version": "3.10.8"
  }
 },
 "nbformat": 4,
 "nbformat_minor": 2
}
