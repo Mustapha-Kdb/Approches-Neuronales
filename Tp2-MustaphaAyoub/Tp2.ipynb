{
 "cells": [
  {
   "cell_type": "markdown",
   "metadata": {},
   "source": [
    "Partie 1\n",
    "#Chargement des données "
   ]
  },
  {
   "cell_type": "code",
   "execution_count": 247,
   "metadata": {},
   "outputs": [
    {
     "name": "stdout",
     "output_type": "stream",
     "text": [
      "104\n",
      "104\n"
     ]
    }
   ],
   "source": [
    "import pandas as pd\n",
    "import re\n",
    "\n",
    "def extract_data(input_path, pattern):\n",
    "    with open(input_path, 'r') as file:\n",
    "        content = file.read()\n",
    "    matches = re.findall(pattern, content, re.MULTILINE)\n",
    "    data = []\n",
    "    for match in matches:\n",
    "        numbers = match[1].replace('\\n', ' ').split()\n",
    "        numbers_float = [float(number) for number in numbers]\n",
    "        data.append(numbers_float)\n",
    "    return pd.DataFrame(data)\n",
    "\n",
    "rocks_path = 'data/sonar.rocks'\n",
    "mines_path = 'data/sonar.mines'\n",
    "\n",
    "# Patterns for extracting train and test data\n",
    "train_pattern = r'\\*(CR|CM)\\d+:\\n\\{([\\d\\s\\.\\n]+)\\}'\n",
    "test_pattern = r'^(?!\\*)(CR|CM)\\d+:\\n\\{([\\d\\s\\.\\n]+)\\}'\n",
    "\n",
    "# Extracting train and test data\n",
    "rocks_train_df = extract_data(rocks_path, train_pattern)\n",
    "mines_train_df = extract_data(mines_path, train_pattern)\n",
    "rocks_train_df['Label'] = 'R'  \n",
    "mines_train_df['Label'] = 'M' \n",
    "train_df = pd.concat([rocks_train_df, mines_train_df], ignore_index=True).sample(frac=1).reset_index(drop=True)\n",
    "\n",
    "rocks_test_df = extract_data(rocks_path, test_pattern)\n",
    "mines_test_df = extract_data(mines_path, test_pattern)\n",
    "rocks_test_df['Label'] = 'R'  \n",
    "mines_test_df['Label'] = 'M' \n",
    "test_df = pd.concat([rocks_test_df, mines_test_df], ignore_index=True).sample(frac=1).reset_index(drop=True)\n",
    "\n",
    "print(len(train_df))\n",
    "print(len(test_df)) \n"
   ]
  },
  {
   "cell_type": "markdown",
   "metadata": {},
   "source": [
    "Partie 2"
   ]
  },
  {
   "cell_type": "markdown",
   "metadata": {},
   "source": [
    "##Apprentissage sur train"
   ]
  },
  {
   "cell_type": "code",
   "execution_count": 248,
   "metadata": {},
   "outputs": [],
   "source": [
    "import numpy as np\n",
    "\n",
    "def perceptron_batch(training_features, training_labels, epochs, learning_rate):\n",
    "\n",
    "    # Initialisation des poids\n",
    "    weights = np.zeros(training_features.shape[1] + 1)\n",
    "    \n",
    "    # Entraînement\n",
    "    for _ in range(epochs):\n",
    "        # Initialisation du vecteur de mise à jour pour cette époque\n",
    "        update = np.zeros(training_features.shape[1] + 1)\n",
    "        \n",
    "        for inputs, label in zip(training_features, training_labels):\n",
    "            # Calcul de la prédiction\n",
    "            activation = np.dot(inputs, weights[1:]) + weights[0]\n",
    "            if activation >= 0:\n",
    "                prediction = 1\n",
    "            else:\n",
    "                prediction = -1\n",
    "            \n",
    "            # Accumulation de la mise à jour basée sur l'erreur\n",
    "            update[1:] += learning_rate * (label - prediction) * inputs\n",
    "            update[0] += learning_rate * (label - prediction)\n",
    "        \n",
    "        # Mise à jour des poids à la fin de l'époque\n",
    "        weights += update\n",
    "    \n",
    "    return weights\n",
    "\n",
    "# Préparation des données\n",
    "# Supposons que train_df est déjà défini et mélangé\n",
    "# Convertir les étiquettes 'R' et 'M' en valeurs numériques -1 et 1\n",
    "train_df['Label'] = train_df['Label'].apply(lambda x: 1 if x == 'M' else -1)\n",
    "test_df['Label'] = test_df['Label'].apply(lambda x: 1 if x == 'M' else -1)\n",
    "\n",
    "# Séparation des caractéristiques et des étiquettes\n",
    "train_features = train_df.iloc[:, :-1].values\n",
    "train_labels = train_df.iloc[:, -1].values\n",
    "\n",
    "# Entraînement du perceptron\n",
    "weights = perceptron_batch(train_features, train_labels,22000,0.001)"
   ]
  },
  {
   "cell_type": "markdown",
   "metadata": {},
   "source": [
    "Calcul de Ea et de Eg"
   ]
  },
  {
   "cell_type": "code",
   "execution_count": 249,
   "metadata": {},
   "outputs": [
    {
     "name": "stdout",
     "output_type": "stream",
     "text": [
      "Erreur d'apprentissage (Ea) : 0.0\n",
      "Erreur de généralisation (Eg) : 0.1923076923076923\n",
      "Les poids du perceptron [-0.98       0.842751   2.1072314  0.3838012  1.1038062  0.7259872\n",
      "  1.4434456 -0.6594728 -1.5828186  0.0899288  1.0787674  0.38768\n",
      "  0.1341432  0.0255996  0.042866   0.5863472 -1.958266  -0.5572258\n",
      "  2.0306202 -0.378772  -0.0970566 -0.3937258  0.5972566 -0.440081\n",
      "  1.078278  -0.1139262 -0.1252908  0.1074978 -0.2024282 -0.19539\n",
      "  2.048143  -3.0649636  2.3248804 -1.6053052  0.743006  -0.4041242\n",
      " -0.2133034 -0.3860196 -0.2090698  1.7067118 -1.526431   0.636046\n",
      " -0.140197  -0.1147842 -0.6595438  1.1983514  1.035655  -1.0689164\n",
      "  2.105948   2.8900536 -1.2872816  0.5331192  0.5126696  0.30002\n",
      "  0.825407  -0.1197684 -0.2328594 -0.544665   0.3433368 -0.1490698\n",
      " -0.1637436]\n"
     ]
    }
   ],
   "source": [
    "def predict_perceptron(inputs, weights):\n",
    "    activation = np.dot(inputs, weights[1:]) + weights[0]\n",
    "    return 1 if activation >= 0 else -1\n",
    "\n",
    "# Fonction pour calculer la précision\n",
    "def calculate_accuracy(features, labels, weights):\n",
    "    predictions = [predict_perceptron(x, weights) for x in features]\n",
    "    correct_predictions = sum(pred == label for pred, label in zip(predictions, labels))\n",
    "    accuracy = correct_predictions / len(labels)\n",
    "    return accuracy\n",
    "\n",
    "# Convertir les étiquettes de l'ensemble de test en valeurs numériques -1 et 1\n",
    "# test_df['Label'] = test_df['Label'].apply(lambda x: 1 if x == 'M' else -1)\n",
    "\n",
    "# Séparer les caractéristiques et les étiquettes de l'ensemble de test\n",
    "test_features = test_df.iloc[:, :-1].values\n",
    "test_labels = test_df.iloc[:, -1].values\n",
    "\n",
    "# Calculer la précision sur l'ensemble d'entraînement et de test\n",
    "training_accuracy = calculate_accuracy(train_features, train_labels, weights)\n",
    "testing_accuracy = calculate_accuracy(test_features, test_labels, weights)\n",
    "\n",
    "# Calculer les erreurs d'apprentissage (Ea) et de généralisation (Eg)\n",
    "Ea = 1 - training_accuracy\n",
    "Eg = 1 - testing_accuracy\n",
    "\n",
    "print(f\"Erreur d'apprentissage (Ea) : {Ea}\")\n",
    "print(f\"Erreur de généralisation (Eg) : {Eg}\")\n",
    "\n",
    "print(\"Les poids du perceptron\",weights)"
   ]
  },
  {
   "cell_type": "markdown",
   "metadata": {},
   "source": [
    "Fonction de stabilité"
   ]
  },
  {
   "cell_type": "code",
   "execution_count": 250,
   "metadata": {},
   "outputs": [
    {
     "name": "stdout",
     "output_type": "stream",
     "text": [
      "[0.07983593435332308, 0.05878370610762419, 0.12042269580186918, 0.007441359997917582, 0.00345330328702527, -0.02904303428410117, 0.02163424502250528, 0.04834832411075165, 0.11095867882739249, 0.08248702066140327, 0.13282763219599547, 0.16721869785067026, 0.12424440482863475, 0.06489550841873014, 0.05905422131395208, 0.06265733368466408, 0.03666161187972346, 0.1278733564913867, 0.09763893175005268, 0.056790219717957696, 0.03684822819133507, 0.10841419895433117, 0.05075649278576885, -0.016231327999166215, 0.1284684886715619, 0.030317984360207866, 0.16423151163533817, 0.14910719515134818, 0.0001425599546783556, 0.0537108194714951, -0.05801110738737808, 0.014626107736100307, 0.05748678622491089, -0.09055188285508863, -0.06331791162327202, 0.013523552468373657, -0.0433566282662845, 0.04896065254328488, 0.05331840266117704, 0.025140511904158554, -0.009165359455136931, -0.1098746183313325, 0.021359085205933614, 0.07343003608748103, 0.05128634944689478, 0.028314955270345752, -0.0503814859808198, 0.06127316022939122, 0.10266639295772631, 0.029767926209708886, 0.02845524626553, 0.06816456336079839, 0.08627464181863842, 0.05463658281616584, 0.05737214299336643, 0.046290238502647615, 0.20261388007171938, 0.0380358734338328, 0.06654454302777985, 0.11835754249383441, 0.0848623600180318, 0.06810040308189295, 0.17605211668320128, -0.023492685040122967, 0.059650497622987714, -0.01257370954795992, 0.02490457648438549, -0.0021689656867133244, 0.05971137071154928, -0.006195998921328958, 0.007729754812897851, 0.06029081204123064, -0.014154321773555054, -0.008394134711905222, 0.12096289657160642, 0.04688918152086323, 0.030945614124019232, 0.0397922297712176, -0.03217561629122233, 0.09589829040586995, -0.10534737547047963, 0.00040610387947474905, 0.033531253909248805, -0.009218821466755792, -0.07474226052332614, 0.13040261257309632, 0.040670176161947506, 0.007867291952068744, 0.007769584353108559, 0.14613330105292854, 0.008042335191408548, 0.044510907648277205, 0.04621315678742368, 0.03950120294163893, 0.03142980891713577, 0.0524528038907152, 0.09616320527107142, 0.04580585955103495, 0.006841335479748185, 0.04022181768287831, 0.07141577406176562, 0.09047079036005566, -0.004613959227716995, 0.11231781199792364]\n"
     ]
    }
   ],
   "source": [
    "def calculate_stability(features, labels, weights):\n",
    "    norm_w = np.linalg.norm(weights[1:])  # Calcul de la norme du vecteur de poids (sans le biais)\n",
    "    stabilities = []\n",
    "    for x, y in zip(features, labels):\n",
    "        # Calcul de la marge fonctionnelle pour chaque exemple\n",
    "        gamma = y * (np.dot(weights[1:], x) + weights[0]) / norm_w\n",
    "        stabilities.append(gamma)\n",
    "    return stabilities\n",
    "\n",
    "# Calcul des stabilités pour l'ensemble de test\n",
    "test_stabilities = calculate_stability(test_features, test_labels, weights)\n",
    "\n",
    "# Afficher les stabilités des exemples de test\n",
    "print(test_stabilities)\n",
    "\n",
    "\n"
   ]
  },
  {
   "cell_type": "markdown",
   "metadata": {},
   "source": [
    "Graph"
   ]
  },
  {
   "cell_type": "code",
   "execution_count": 251,
   "metadata": {},
   "outputs": [
    {
     "data": {
      "image/png": "[encoded data removed]",
      "text/plain": [
       "<Figure size 1000x600 with 1 Axes>"
      ]
     },
     "metadata": {},
     "output_type": "display_data"
    }
   ],
   "source": [
    "import matplotlib.pyplot as plt\n",
    "\n",
    "def plot_stability(test_stabilities):\n",
    "    # Définir les étiquettes pour les exemples bien classés et mal classés\n",
    "    labels = ['Bien classé' if val > 0 else 'Mal classé' for val in test_stabilities]\n",
    "\n",
    "    # Créer le graphique de stabilité\n",
    "    plt.figure(figsize=(10, 6))\n",
    "\n",
    "    # Barres pour les exemples bien classés\n",
    "    plt.bar(range(len(test_stabilities)), [val if val > 0 else 0 for val in test_stabilities], \n",
    "            color='blue', label='Bien classé')\n",
    "\n",
    "    # Barres pour les exemples mal classés\n",
    "    plt.bar(range(len(test_stabilities)), [val if val < 0 else 0 for val in test_stabilities], \n",
    "            color='red', label='Mal classé')\n",
    "\n",
    "    # Ajouter des légendes, des étiquettes et un titre\n",
    "    plt.legend()\n",
    "    plt.xlabel('Exemple')\n",
    "    plt.ylabel('Stabilité')\n",
    "    plt.title('Graphique de Stabilité pour les Données de Test')\n",
    "\n",
    "    # Afficher le graphique\n",
    "    plt.show()\n",
    "\n",
    "plot_stability(test_stabilities)\n"
   ]
  },
  {
   "cell_type": "markdown",
   "metadata": {},
   "source": [
    "Apprentissage sur \"train et test\""
   ]
  },
  {
   "cell_type": "code",
   "execution_count": 252,
   "metadata": {},
   "outputs": [
    {
     "name": "stdout",
     "output_type": "stream",
     "text": [
      "Erreur d'apprentissage (Ea) : 0.09615384615384615\n",
      "Erreur de généralisation (Eg) : 0.04807692307692313\n",
      "Les poids du perceptron [-1.4060000e+00  2.7263776e+00  4.1823040e-01 -3.8693388e+00\n",
      "  3.9574746e+00  3.3246620e-01  5.8838140e-01 -2.2077698e+00\n",
      " -1.5317032e+00  1.7412074e+00 -9.6917360e-01  2.3690888e+00\n",
      "  5.8942460e-01 -4.5729000e-02 -3.4612540e-01  5.2547040e-01\n",
      " -5.0640340e-01 -1.2972996e+00  1.3238842e+00 -5.4880020e-01\n",
      "  6.9305680e-01 -8.4891400e-01  1.2442930e+00 -9.2581080e-01\n",
      "  1.9959568e+00 -8.2241560e-01 -3.5189720e-01  4.6993780e-01\n",
      " -3.1498480e-01 -1.6604240e-01  1.8712528e+00 -3.0814922e+00\n",
      "  1.5055166e+00  2.3477480e-01 -9.9478860e-01  1.5755438e+00\n",
      " -1.7375118e+00 -3.5191160e-01  1.4334580e-01  1.3185718e+00\n",
      " -2.0211816e+00  5.7359440e-01  8.4407000e-02  5.5505540e-01\n",
      "  5.0507020e-01  8.4901400e-01  9.5330800e-02  2.6794000e-03\n",
      "  3.2833850e+00  3.7186640e+00 -2.8747132e+00  2.5147360e+00\n",
      "  2.1065308e+00  1.4150502e+00  1.2052510e+00 -1.9851300e-01\n",
      " -3.7440880e-01 -9.0888360e-01  1.3928984e+00  1.4335584e+00\n",
      "  1.0102676e+00]\n",
      "[0.0992580970379028, 0.07931171124611264, 0.13393261733356734, 0.04534135033616498, 0.05607703736453653, 0.014160504958095652, 0.04613032771316827, 0.03120113875631205, 0.10226828487001546, 0.07572769445249179, 0.09875081831125188, 0.17129123071660907, 0.12795492690855484, 0.12065824529866055, 0.0897593583282453, 0.10069194044636674, 0.03608049131276031, 0.08623622420108036, 0.08524474720729583, 0.021798659017760267, 0.06273648888456172, 0.06658929584583662, 0.06321065857280932, 0.008519512110831198, 0.1337189526571157, 0.0488447489990282, 0.16347561159649726, 0.14251036894101798, 0.0157220440199058, 0.06343343785852232, -0.01684415000739905, 0.08463464064577735, 0.061576358305609195, 0.01362445912396755, -0.003631834367485649, 0.03255839723159902, -0.010502412533449239, 0.04014752533786136, 0.07945586695810879, 0.04077495919874683, 0.004419314200305828, -0.01398195407001525, 0.008964506005384504, 0.05283763250944245, 0.053175822421942, 0.02682000324688284, 0.011049768246877967, 0.0863944106391727, 0.09325014202940736, 0.019530786654854315, 0.017256996243005415, 0.023008605944126834, 0.05368026840927062, 0.04043872066943253, 0.04227984475494375, 0.03949291393367122, 0.21849056066771674, 0.07012948455475362, 0.028167881202142513, 0.1930673707816694, 0.08509477941771068, 0.08664789112343248, 0.14303781223656137, 0.0049941282307316955, 0.0668810019025857, 0.030049656213294754, 0.03699414897747555, 0.0152103316819554, 0.031481390497722854, 0.0041475526466880856, -0.006773640264380809, 0.06845985711842234, 0.003492230887994636, 0.005736971309550533, 0.03860211503139258, 0.06795849228918559, 0.02746685859981136, 0.02161516111694764, 0.010325656472316128, 0.11159239724638884, 0.023106090044292173, 0.004235302553508755, 0.03069905450073473, 0.024215368232074968, 0.0025247767250774484, 0.1229533522471532, 0.07033065246663983, 0.009962735166747734, 0.038828663462863164, 0.08092115580043287, 0.017661731879652573, 0.04167391977707628, 0.16188811973692482, 0.02284594991454454, 0.0497782145872798, 0.055518294910599994, 0.047937486664802964, 0.029656038297984497, 0.0030109623767630403, 0.05684369005095873, 0.04980173813057313, 0.12650544551137552, 0.023935754557989866, 0.13445151518802967]\n"
     ]
    },
    {
     "data": {
      "image/png": "[encoded data removed]",
      "text/plain": [
       "<Figure size 1000x600 with 1 Axes>"
      ]
     },
     "metadata": {},
     "output_type": "display_data"
    }
   ],
   "source": [
    "train_test_df = pd.concat([train_df, test_df], ignore_index=True).sample(frac=1).reset_index(drop=True)\n",
    "\n",
    "# Séparation des caractéristiques et des étiquettes\n",
    "train_test_features = train_test_df.iloc[:, :-1].values\n",
    "train_test_labels = train_test_df.iloc[:, -1].values\n",
    "\n",
    "# Entraînement du perceptron\n",
    "train_test_weights = perceptron_batch(train_test_features, train_test_labels,22000,0.001)\n",
    "\n",
    "\n",
    "# # Convertir les étiquettes de l'ensemble de test en valeurs numériques -1 et 1\n",
    "# # test_df['Label'] = test_df['Label'].apply(lambda x: 1 if x == 'M' else -1)\n",
    "# # Séparer les caractéristiques et les étiquettes de l'ensemble de test\n",
    "# test_features = test_df.iloc[:, :-1].values\n",
    "# test_labels = test_df.iloc[:, -1].values\n",
    "\n",
    "# Calculer la précision sur l'ensemble d'entraînement et de test\n",
    "train_accuracy = calculate_accuracy(train_test_features, train_test_labels, train_test_weights)\n",
    "test_accuracy = calculate_accuracy(test_features, test_labels, train_test_weights)\n",
    "\n",
    "# Calculer les erreurs d'apprentissage (Ea) et de généralisation (Eg)\n",
    "Ea = 1 - train_accuracy\n",
    "Eg = 1 - test_accuracy\n",
    "\n",
    "print(f\"Erreur d'apprentissage (Ea) : {Ea}\")\n",
    "print(f\"Erreur de généralisation (Eg) : {Eg}\")\n",
    "\n",
    "print(\"Les poids du perceptron\",train_test_weights)\n",
    "\n",
    "# Calcul des stabilités pour l'ensemble de test\n",
    "test_stabilities_L = calculate_stability(test_features, test_labels, train_test_weights)\n",
    "\n",
    "# Afficher les stabilités des exemples de test\n",
    "print(test_stabilities_L)\n",
    "\n",
    "plot_stability(test_stabilities_L)\n",
    "\n",
    "\n",
    "\n",
    "\n"
   ]
  },
  {
   "cell_type": "markdown",
   "metadata": {},
   "source": [
    "Early Stopping"
   ]
  },
  {
   "cell_type": "code",
   "execution_count": 254,
   "metadata": {},
   "outputs": [
    {
     "name": "stdout",
     "output_type": "stream",
     "text": [
      "Erreur moyenne d'apprentissage (Ea): 0.14807692307692308\n",
      "Erreur moyenne de validation (Ev): 0.20769230769230768\n",
      "Erreur moyenne de test (Et): 0.23076923076923078\n",
      "Epoch moyenne d'arrêt prématuré : 606.2\n"
     ]
    }
   ],
   "source": [
    "import numpy as np\n",
    "import pandas as pd\n",
    "\n",
    "# Supposons que vos données sont déjà chargées dans train_df et test_df.\n",
    "# Nous allons concaténer ces ensembles et les mélanger pour former l'ensemble L.\n",
    "train_test_df = train_test_df.sample(frac=1, random_state=1).reset_index(drop=True)\n",
    "\n",
    "# Fonction d'entraînement de perceptron avec arrêt prématuré\n",
    "def perceptron_batch_avec_ES(features, labels, validation_features, validation_labels, epochs, learning_rate, patience):\n",
    "    weights = np.zeros(features.shape[1] + 1)\n",
    "    best_weights = None\n",
    "    meilleur_validation_accuracy = 0\n",
    "    patience_counter = 0\n",
    "    early_stop_epoch = 0  \n",
    "\n",
    "    for epoch in range(epochs):\n",
    "        update = np.zeros(features.shape[1] + 1)\n",
    "        for inputs, label in zip(features, labels):\n",
    "            activation = np.dot(inputs, weights[1:]) + weights[0]\n",
    "            prediction = 1 if activation >= 0 else -1\n",
    "            update[1:] += learning_rate * (label - prediction) * inputs\n",
    "            update[0] += learning_rate * (label - prediction)\n",
    "        weights += update\n",
    "\n",
    "        # Évaluer la précision sur l'ensemble de validation\n",
    "        validation_accuracy = calculate_accuracy(validation_features, validation_labels, weights)\n",
    "\n",
    "        # Mettre à jour les meilleurs poids si l'exactitude sur l'ensemble de validation s'améliore\n",
    "        if validation_accuracy > meilleur_validation_accuracy:\n",
    "            meilleur_validation_accuracy = validation_accuracy\n",
    "            meilleur_weights = weights.copy()\n",
    "            patience_counter = 0\n",
    "            early_stop_epoch = epoch\n",
    "        else:\n",
    "            patience_counter += 1\n",
    "\n",
    "        # Si la patience est dépassée, arrêter l'entraînement\n",
    "        if patience_counter >= patience:\n",
    "            break\n",
    "\n",
    "    return meilleur_weights if meilleur_weights is not None else weights, early_stop_epoch\n",
    "\n",
    "# Répéter l'expérience et collecter les statistiques\n",
    "num_experiments = 5\n",
    "errors_train = []\n",
    "errors_validation = []\n",
    "errors_test = []\n",
    "early_stop_epochs = []\n",
    "\n",
    "for _ in range(num_experiments):\n",
    "    train_test_df = train_test_df.sample(frac=1, random_state=1).reset_index(drop=True)\n",
    "    # Diviser l'ensemble L en LA, LV, LT\n",
    "    LA_df, remaining_df = np.split(train_test_df, [int(.5*len(train_test_df))])\n",
    "    LV_df, LT_df = np.split(remaining_df, [int(.5*len(remaining_df))])\n",
    "\n",
    "    # Convertir en matrices numpy\n",
    "    LA_features, LA_labels = LA_df.iloc[:, :-1].values, LA_df.iloc[:, -1].values\n",
    "    LV_features, LV_labels = LV_df.iloc[:, :-1].values, LV_df.iloc[:, -1].values\n",
    "    LT_features, LT_labels = LT_df.iloc[:, :-1].values, LT_df.iloc[:, -1].values\n",
    "\n",
    "    # Entraînement avec arrêt prématuré\n",
    "    best_weights, stop_epoch = perceptron_batch_avec_ES(LA_features, LA_labels, LV_features, LV_labels,\n",
    "                                                        epochs=22000, learning_rate=0.001, patience=2000)\n",
    "    early_stop_epochs.append(stop_epoch)\n",
    "\n",
    "    # Calcul des erreurs\n",
    "    errors_train.append(1 - calculate_accuracy(LA_features, LA_labels, best_weights))\n",
    "    errors_validation.append(1 - calculate_accuracy(LV_features, LV_labels, best_weights))\n",
    "    errors_test.append(1 - calculate_accuracy(LT_features, LT_labels, best_weights))\n",
    "\n",
    "# Calculer la moyenne des erreurs\n",
    "mean_error_train = np.mean(errors_train)\n",
    "mean_error_validation = np.mean(errors_validation)\n",
    "mean_error_test = np.mean(errors_test)\n",
    "\n",
    "print(f\"Erreur moyenne d'apprentissage (Ea): {mean_error_train}\")\n",
    "print(f\"Erreur moyenne de validation (Ev): {mean_error_validation}\")\n",
    "print(f\"Erreur moyenne de test (Et): {mean_error_test}\")\n",
    "\n",
    "mean_early_stop_epoch = np.mean(early_stop_epochs)\n",
    "print(f\"Epoch moyenne d'arrêt prématuré : {mean_early_stop_epoch}\")\n"
   ]
  }
 ],
 "metadata": {
  "kernelspec": {
   "display_name": "Python 3",
   "language": "python",
   "name": "python3"
  },
  "language_info": {
   "codemirror_mode": {
    "name": "ipython",
    "version": 3
   },
   "file_extension": ".py",
   "mimetype": "text/x-python",
   "name": "python",
   "nbconvert_exporter": "python",
   "pygments_lexer": "ipython3",
   "version": "3.10.8"
  }
 },
 "nbformat": 4,
 "nbformat_minor": 2
}
