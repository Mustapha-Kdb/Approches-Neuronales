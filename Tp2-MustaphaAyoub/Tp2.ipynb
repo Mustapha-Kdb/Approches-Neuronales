{
 "cells": [
  {
   "cell_type": "markdown",
   "metadata": {},
   "source": [
    "Partie 1\n",
    "#Chargement des données "
   ]
  },
  {
   "cell_type": "code",
   "execution_count": 20,
   "metadata": {},
   "outputs": [
    {
     "name": "stdout",
     "output_type": "stream",
     "text": [
      "104\n",
      "104\n"
     ]
    }
   ],
   "source": [
    "import pandas as pd\n",
    "import re\n",
    "\n",
    "def extract_data(input_path, pattern):\n",
    "    with open(input_path, 'r') as file:\n",
    "        content = file.read()\n",
    "    matches = re.findall(pattern, content, re.MULTILINE)\n",
    "    data = []\n",
    "    for match in matches:\n",
    "        numbers = match[1].replace('\\n', ' ').split()\n",
    "        numbers_float = [float(number) for number in numbers]\n",
    "        data.append(numbers_float)\n",
    "    return pd.DataFrame(data)\n",
    "\n",
    "rocks_path = 'data/sonar.rocks'\n",
    "mines_path = 'data/sonar.mines'\n",
    "\n",
    "# Patterns for extracting train and test data\n",
    "train_pattern = r'\\*(CR|CM)\\d+:\\n\\{([\\d\\s\\.\\n]+)\\}'\n",
    "test_pattern = r'^(?!\\*)(CR|CM)\\d+:\\n\\{([\\d\\s\\.\\n]+)\\}'\n",
    "\n",
    "# Extracting train and test data\n",
    "rocks_train_df = extract_data(rocks_path, train_pattern)\n",
    "mines_train_df = extract_data(mines_path, train_pattern)\n",
    "rocks_train_df['Label'] = 'R'  \n",
    "mines_train_df['Label'] = 'M' \n",
    "train_df = pd.concat([rocks_train_df, mines_train_df], ignore_index=True).sample(frac=1).reset_index(drop=True)\n",
    "\n",
    "rocks_test_df = extract_data(rocks_path, test_pattern)\n",
    "mines_test_df = extract_data(mines_path, test_pattern)\n",
    "rocks_test_df['Label'] = 'R'  \n",
    "mines_test_df['Label'] = 'M' \n",
    "test_df = pd.concat([rocks_test_df, mines_test_df], ignore_index=True).sample(frac=1).reset_index(drop=True)\n",
    "\n",
    "print(len(train_df))\n",
    "print(len(test_df)) \n"
   ]
  },
  {
   "cell_type": "markdown",
   "metadata": {},
   "source": [
    "Partie 2"
   ]
  },
  {
   "cell_type": "markdown",
   "metadata": {},
   "source": [
    "##Apprentissage sur train"
   ]
  },
  {
   "cell_type": "code",
   "execution_count": 21,
   "metadata": {},
   "outputs": [],
   "source": [
    "import numpy as np\n",
    "\n",
    "def perceptron_batch(training_features, training_labels, epochs=22000, learning_rate=0.001):\n",
    "\n",
    "    # Initialisation des poids\n",
    "    weights = np.zeros(training_features.shape[1] + 1)\n",
    "    \n",
    "    # Entraînement\n",
    "    for _ in range(epochs):\n",
    "        # Initialisation du vecteur de mise à jour pour cette époque\n",
    "        update = np.zeros(training_features.shape[1] + 1)\n",
    "        \n",
    "        for inputs, label in zip(training_features, training_labels):\n",
    "            # Calcul de la prédiction\n",
    "            activation = np.dot(inputs, weights[1:]) + weights[0]\n",
    "            if activation >= 0:\n",
    "                prediction = 1\n",
    "            else:\n",
    "                prediction = -1\n",
    "            \n",
    "            # Accumulation de la mise à jour basée sur l'erreur\n",
    "            update[1:] += learning_rate * (label - prediction) * inputs\n",
    "            update[0] += learning_rate * (label - prediction)\n",
    "        \n",
    "        # Mise à jour des poids à la fin de l'époque\n",
    "        weights += update\n",
    "    \n",
    "    return weights\n",
    "\n",
    "# Préparation des données\n",
    "# Supposons que train_df est déjà défini et mélangé\n",
    "# Convertir les étiquettes 'R' et 'M' en valeurs numériques -1 et 1\n",
    "train_df['Label'] = train_df['Label'].apply(lambda x: 1 if x == 'M' else -1)\n",
    "test_df['Label'] = test_df['Label'].apply(lambda x: 1 if x == 'M' else -1)\n",
    "\n",
    "# Séparation des caractéristiques et des étiquettes\n",
    "features = train_df.iloc[:, :-1].values\n",
    "labels = train_df.iloc[:, -1].values\n",
    "\n",
    "# Entraînement du perceptron\n",
    "weights = perceptron_batch(features, labels)"
   ]
  },
  {
   "cell_type": "markdown",
   "metadata": {},
   "source": [
    "Calcul de Ea et de Eg"
   ]
  },
  {
   "cell_type": "code",
   "execution_count": 23,
   "metadata": {},
   "outputs": [
    {
     "name": "stdout",
     "output_type": "stream",
     "text": [
      "[ 1  1 -1 -1  1 -1 -1  1  1 -1 -1 -1 -1  1  1 -1  1  1  1 -1 -1 -1  1 -1\n",
      "  1 -1 -1  1  1  1  1  1  1  1 -1  1  1  1  1 -1  1  1  1  1  1 -1  1  1\n",
      "  1 -1 -1  1  1 -1  1 -1  1 -1 -1  1 -1 -1 -1 -1 -1 -1  1 -1  1  1 -1 -1\n",
      "  1  1  1  1 -1 -1  1 -1  1 -1  1  1 -1 -1  1  1  1  1  1  1  1 -1  1  1\n",
      "  1  1 -1 -1  1  1  1  1]\n",
      "[1, -1, -1, -1, -1, -1, -1, 1, 1, -1, 1, 1, -1, 1, 1, -1, -1, 1, 1, -1, 1, -1, 1, -1, 1, -1, -1, 1, 1, 1, -1, 1, 1, 1, 1, 1, -1, 1, -1, -1, 1, 1, -1, -1, 1, -1, 1, -1, 1, -1, -1, 1, 1, -1, -1, -1, 1, -1, -1, 1, 1, -1, -1, -1, -1, -1, 1, -1, 1, 1, 1, -1, 1, 1, 1, 1, 1, -1, 1, -1, 1, -1, 1, 1, -1, -1, 1, -1, 1, 1, 1, 1, -1, -1, 1, 1, 1, 1, -1, -1, -1, 1, 1, 1]\n",
      "Erreur d'apprentissage (Ea) : 0.0\n",
      "Erreur de généralisation (Eg) : 0.1923076923076923\n"
     ]
    }
   ],
   "source": [
    "def predict_perceptron(inputs, weights):\n",
    "    activation = np.dot(inputs, weights[1:]) + weights[0]\n",
    "    return 1 if activation >= 0 else -1\n",
    "\n",
    "# Fonction pour calculer la précision\n",
    "def calculate_accuracy(features, labels, weights):\n",
    "    predictions = [predict_perceptron(x, weights) for x in features]\n",
    "    correct_predictions = sum(pred == label for pred, label in zip(predictions, labels))\n",
    "    accuracy = correct_predictions / len(labels)\n",
    "    return accuracy\n",
    "\n",
    "# Convertir les étiquettes de l'ensemble de test en valeurs numériques -1 et 1\n",
    "# test_df['Label'] = test_df['Label'].apply(lambda x: 1 if x == 'M' else -1)\n",
    "\n",
    "# Séparer les caractéristiques et les étiquettes de l'ensemble de test\n",
    "test_features = test_df.iloc[:, :-1].values\n",
    "test_labels = test_df.iloc[:, -1].values\n",
    "\n",
    "print (test_labels)\n",
    "predictions = [predict_perceptron(x, weights) for x in test_features]\n",
    "print (predictions)\n",
    "# Calculer la précision sur l'ensemble d'entraînement et de test\n",
    "training_accuracy = calculate_accuracy(features, labels, weights)\n",
    "testing_accuracy = calculate_accuracy(test_features, test_labels, weights)\n",
    "\n",
    "# Calculer les erreurs d'apprentissage (Ea) et de généralisation (Eg)\n",
    "Ea = 1 - training_accuracy\n",
    "Eg = 1 - testing_accuracy\n",
    "\n",
    "print(f\"Erreur d'apprentissage (Ea) : {Ea}\")\n",
    "print(f\"Erreur de généralisation (Eg) : {Eg}\")\n",
    "\n",
    "print(\"Les poids du perceptron\",weights)"
   ]
  },
  {
   "cell_type": "markdown",
   "metadata": {},
   "source": [
    "Fonction de stabilité"
   ]
  },
  {
   "cell_type": "code",
   "execution_count": 24,
   "metadata": {},
   "outputs": [
    {
     "name": "stdout",
     "output_type": "stream",
     "text": [
      "[0.06810040308188955, -0.03217561629122765, 0.014626107736106043, 0.045805859551034715, -0.008394134711908634, 0.0665445430277821, 0.04688918152086863, 0.08248702066139742, 0.07983593435331966, 0.09047079036006, -0.10987461833132714, -0.04335662826628122, 0.05905422131395836, 0.048960652543282815, 0.039792229771214105, 0.10841419895433946, -0.10534737547048376, 0.040221817682871995, 0.00804233519140113, 0.030945614124021484, -0.009165359455128938, 0.09589829040586853, 0.06489550841872516, 0.024904576484390675, 0.2026138800717119, 0.03666161187972553, 0.007441359997922064, 0.16721869785066729, 0.16423151163533015, 0.006841335479741866, -0.06331791162327705, 0.05878370610761803, 0.06265733368466629, 0.09616320527106954, -0.07474226052332665, 0.021359085205929124, -0.0046139592277238805, 0.07343003608747563, -0.014154321773557408, 0.013523552468381793, 0.060290812041228124, 0.030317984360203196, -0.01623132799917312, -0.0021689656867136305, 0.040670176161940644, 0.11231781199792862, 0.12846848867155347, -0.012573709547965611, 0.046290238502643834, 0.05245280389071794, 0.053318402661179175, 0.05128634944688645, 0.1304026125730899, 0.033531253909252275, -0.02904303428410634, 0.05463658281616474, 0.007867291952065649, 0.00014255995468350977, 0.17605211668320084, 0.1204226958018641, -0.09055188285508768, 0.00040610387947891314, 0.07141577406177299, 0.05737214299336616, 0.02514051190416088, 0.05075649278577396, 0.04621315678742336, 0.028455246265534345, 0.06127316022938521, 0.10266639295772434, -0.05801110738737135, 0.06816456336079965, 0.05679021971795279, 0.09763893175004902, 0.13282763219598978, 0.044510907648270204, -0.00921882146674931, 0.0034533032870327053, 0.05971137071154702, 0.08627464181864723, 0.053710819471492546, 0.11095867882739717, 0.12424440482862627, 0.12787335649138068, 0.02163424502250688, 0.1491071951513472, 0.14613330105292432, -0.05038148598082746, 0.038035873433825244, 0.08486236001802375, 0.059650497622981295, 0.007729754812893611, -0.02349268504012709, 0.0283149552703522, 0.04834832411074487, 0.05748678622490728, 0.11835754249383319, 0.12096289657159909, 0.039501202941643714, 0.00776958435310963, -0.0061959989213355784, 0.03142980891712946, 0.036848228191330074, 0.029767926209701614]\n"
     ]
    }
   ],
   "source": [
    "def calculate_stability(features, labels, weights):\n",
    "    norm_w = np.linalg.norm(weights[1:])  # Calcul de la norme du vecteur de poids (sans le biais)\n",
    "    stabilities = []\n",
    "    for x, y in zip(features, labels):\n",
    "        # Calcul de la marge fonctionnelle pour chaque exemple\n",
    "        gamma = y * (np.dot(weights[1:], x) + weights[0]) / norm_w\n",
    "        stabilities.append(gamma)\n",
    "    return stabilities\n",
    "\n",
    "# Calcul des stabilités pour l'ensemble de test\n",
    "test_stabilities = calculate_stability(test_features, test_labels, weights)\n",
    "\n",
    "# Afficher les stabilités des exemples de test\n",
    "print(test_stabilities)\n"
   ]
  },
  {
   "cell_type": "markdown",
   "metadata": {},
   "source": [
    "Graph"
   ]
  },
  {
   "cell_type": "code",
   "execution_count": 25,
   "metadata": {},
   "outputs": [
    {
     "data": {
      "image/png": "[encoded data removed]",
      "text/plain": [
       "<Figure size 1000x600 with 1 Axes>"
      ]
     },
     "metadata": {},
     "output_type": "display_data"
    }
   ],
   "source": [
    "import matplotlib.pyplot as plt\n",
    "\n",
    "# Calcul des stabilités pour l'ensemble de test (réutilisation du code précédent)\n",
    "test_stabilities = calculate_stability(test_features, test_labels, weights)\n",
    "\n",
    "# Création du graphique des stabilités\n",
    "plt.figure(figsize=(10, 6))\n",
    "plt.plot(test_stabilities, marker='o', linestyle='None', markersize=5, label='Stabilité')\n",
    "plt.axhline(0, color='red', linestyle='--')  # Ligne pour la marge de stabilité à 0\n",
    "plt.title(\"Graphique des stabilités des exemples de test\")\n",
    "plt.xlabel(\"Indice de l'exemple\")\n",
    "plt.ylabel(\"Stabilité (distance à l'hyperplan)\")\n",
    "plt.legend()\n",
    "plt.show()"
   ]
  }
 ],
 "metadata": {
  "kernelspec": {
   "display_name": "Python 3",
   "language": "python",
   "name": "python3"
  },
  "language_info": {
   "codemirror_mode": {
    "name": "ipython",
    "version": 3
   },
   "file_extension": ".py",
   "mimetype": "text/x-python",
   "name": "python",
   "nbconvert_exporter": "python",
   "pygments_lexer": "ipython3",
   "version": "3.10.8"
  }
 },
 "nbformat": 4,
 "nbformat_minor": 2
}
