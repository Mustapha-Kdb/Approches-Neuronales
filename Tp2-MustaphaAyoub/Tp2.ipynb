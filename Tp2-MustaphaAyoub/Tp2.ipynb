{
 "cells": [
  {
   "attachments": {},
   "cell_type": "markdown",
   "metadata": {},
   "source": [
    "Partie 1\n",
    "#Chargement des données "
   ]
  },
  {
   "cell_type": "code",
   "execution_count": 62,
   "metadata": {},
   "outputs": [
    {
     "name": "stdout",
     "output_type": "stream",
     "text": [
      "104\n",
      "104\n"
     ]
    }
   ],
   "source": [
    "import pandas as pd\n",
    "import re\n",
    "\n",
    "def extract_data(input_path, pattern):\n",
    "    with open(input_path, 'r') as file:\n",
    "        content = file.read()\n",
    "    matches = re.findall(pattern, content, re.MULTILINE)\n",
    "    data = []\n",
    "    for match in matches:\n",
    "        numbers = match[1].replace('\\n', ' ').split()\n",
    "        numbers_float = [float(number) for number in numbers]\n",
    "        data.append(numbers_float)\n",
    "    return pd.DataFrame(data)\n",
    "\n",
    "rocks_path = 'data/sonar.rocks'\n",
    "mines_path = 'data/sonar.mines'\n",
    "\n",
    "# Patterns for extracting train and test data\n",
    "train_pattern = r'\\*(CR|CM)\\d+:\\n\\{([\\d\\s\\.\\n]+)\\}'\n",
    "test_pattern = r'^(?!\\*)(CR|CM)\\d+:\\n\\{([\\d\\s\\.\\n]+)\\}'\n",
    "\n",
    "# Extracting train and test data\n",
    "rocks_train_df = extract_data(rocks_path, train_pattern)\n",
    "mines_train_df = extract_data(mines_path, train_pattern)\n",
    "rocks_train_df['Label'] = 'R'  \n",
    "mines_train_df['Label'] = 'M' \n",
    "train_df = pd.concat([rocks_train_df, mines_train_df], ignore_index=True).sample(frac=1).reset_index(drop=True)\n",
    "\n",
    "rocks_test_df = extract_data(rocks_path, test_pattern)\n",
    "mines_test_df = extract_data(mines_path, test_pattern)\n",
    "rocks_test_df['Label'] = 'R'  \n",
    "mines_test_df['Label'] = 'M' \n",
    "test_df = pd.concat([rocks_test_df, mines_test_df], ignore_index=True).sample(frac=1).reset_index(drop=True)\n",
    "\n",
    "print(len(train_df))\n",
    "print(len(test_df)) \n"
   ]
  },
  {
   "attachments": {},
   "cell_type": "markdown",
   "metadata": {},
   "source": [
    "Partie 2"
   ]
  },
  {
   "attachments": {},
   "cell_type": "markdown",
   "metadata": {},
   "source": [
    "## Apprentissage sur train"
   ]
  },
  {
   "cell_type": "code",
   "execution_count": 63,
   "metadata": {},
   "outputs": [
    {
     "name": "stdout",
     "output_type": "stream",
     "text": [
      "[ 1 -1  1  1  1  1  1 -1  1  1 -1  1  1  1  1  1  1  1 -1 -1 -1  1  1 -1\n",
      " -1 -1  1  1  1 -1 -1  1  1 -1 -1  1  1 -1  1 -1  1  1  1 -1  1  1 -1 -1\n",
      " -1  1  1  1  1  1 -1  1  1  1 -1  1 -1  1  1 -1 -1  1  1  1 -1  1 -1  1\n",
      " -1  1  1 -1 -1  1 -1  1  1 -1 -1 -1 -1  1  1 -1  1  1 -1 -1 -1 -1  1 -1\n",
      " -1 -1  1  1  1  1  1  1]\n",
      "[ 1 -1 -1  1 -1 -1  1  1  1  1 -1  1 -1 -1 -1 -1  1  1 -1  1 -1  1 -1  1\n",
      "  1  1 -1 -1  1 -1  1 -1  1  1 -1 -1  1  1 -1 -1  1 -1  1  1 -1 -1  1 -1\n",
      "  1 -1  1  1  1  1  1 -1 -1 -1 -1  1 -1 -1  1 -1 -1  1  1 -1  1  1 -1  1\n",
      " -1  1 -1  1  1  1 -1 -1  1 -1 -1 -1 -1 -1 -1 -1 -1  1 -1 -1 -1  1 -1  1\n",
      "  1 -1  1 -1  1 -1  1 -1]\n",
      "[-0.098       0.0842751   0.21072314  0.03838012  0.11038062  0.07259872\n",
      "  0.14434456 -0.06594728 -0.15828186  0.00899288  0.10787674  0.038768\n",
      "  0.01341432  0.00255996  0.0042866   0.05863472 -0.1958266  -0.05572258\n",
      "  0.20306202 -0.0378772  -0.00970566 -0.03937258  0.05972566 -0.0440081\n",
      "  0.1078278  -0.01139262 -0.01252908  0.01074978 -0.02024282 -0.019539\n",
      "  0.2048143  -0.30649636  0.23248804 -0.16053052  0.0743006  -0.04041242\n",
      " -0.02133034 -0.03860196 -0.02090698  0.17067118 -0.1526431   0.0636046\n",
      " -0.0140197  -0.01147842 -0.06595438  0.11983514  0.1035655  -0.10689164\n",
      "  0.2105948   0.28900536 -0.12872816  0.05331192  0.05126696  0.030002\n",
      "  0.0825407  -0.01197684 -0.02328594 -0.0544665   0.03433368 -0.01490698\n",
      " -0.01637436]\n"
     ]
    }
   ],
   "source": [
    "import numpy as np\n",
    "def perceptron_online(training_features, training_labels, epochs=22000, learning_rate=0.0001):\n",
    "    \"\"\"\n",
    "    Entraîne un perceptron en utilisant l'algorithme en ligne.\n",
    "\n",
    "    :param training_features: numpy.ndarray, les caractéristiques d'entraînement.\n",
    "    :param training_labels: numpy.ndarray, les étiquettes d'entraînement (doivent être -1 ou 1).\n",
    "    :param threshold: int, le nombre d'itérations pour l'entraînement.\n",
    "    :param learning_rate: float, le taux d'apprentissage.\n",
    "    :return: numpy.ndarray, les poids appris.\n",
    "    \"\"\"\n",
    "    # Initialisation des poids\n",
    "    weights = np.zeros(training_features.shape[1] + 1)\n",
    "    \n",
    "    # Entraînement\n",
    "    for _ in range(epochs):\n",
    "        for inputs, label in zip(training_features, training_labels):\n",
    "            # Calcul de la prédiction\n",
    "            activation = np.dot(inputs, weights[1:]) + weights[0]\n",
    "            if activation >= 0:\n",
    "                prediction = 1\n",
    "            else:\n",
    "                prediction = -1\n",
    "            \n",
    "            # Mise à jour des poids basée sur l'erreur\n",
    "            weights[1:] += learning_rate * (label - prediction) * inputs\n",
    "            weights[0] += learning_rate * (label - prediction)\n",
    "    \n",
    "    return weights\n",
    "def perceptron_batch(training_features, training_labels, epochs=22000, learning_rate=0.0001):\n",
    "    \"\"\"\n",
    "    Entraîne un perceptron en utilisant l'algorithme batch.\n",
    "\n",
    "    :param training_features: numpy.ndarray, les caractéristiques d'entraînement.\n",
    "    :param training_labels: numpy.ndarray, les étiquettes d'entraînement (doivent être -1 ou 1).\n",
    "    :param threshold: int, le nombre d'itérations pour l'entraînement.\n",
    "    :param learning_rate: float, le taux d'apprentissage.\n",
    "    :return: numpy.ndarray, les poids appris.\n",
    "    \"\"\"\n",
    "    # Initialisation des poids\n",
    "    weights = np.zeros(training_features.shape[1] + 1)\n",
    "    \n",
    "    # Entraînement\n",
    "    for _ in range(epochs):\n",
    "        # Initialisation du vecteur de mise à jour pour cette époque\n",
    "        update = np.zeros(training_features.shape[1] + 1)\n",
    "        \n",
    "        for inputs, label in zip(training_features, training_labels):\n",
    "            # Calcul de la prédiction\n",
    "            activation = np.dot(inputs, weights[1:]) + weights[0]\n",
    "            if activation >= 0:\n",
    "                prediction = 1\n",
    "            else:\n",
    "                prediction = -1\n",
    "            \n",
    "            # Accumulation de la mise à jour basée sur l'erreur\n",
    "            update[1:] += learning_rate * (label - prediction) * inputs\n",
    "            update[0] += learning_rate * (label - prediction)\n",
    "        \n",
    "        # Mise à jour des poids à la fin de l'époque\n",
    "        weights += update\n",
    "    \n",
    "    return weights\n",
    "\n",
    "# Préparation des données\n",
    "# Supposons que train_df est déjà défini et mélangé\n",
    "# Convertir les étiquettes 'R' et 'M' en valeurs numériques -1 et 1\n",
    "train_df['Label'] = train_df['Label'].apply(lambda x: 1 if x == 'M' else -1)\n",
    "test_df['Label'] = test_df['Label'].apply(lambda x: 1 if x == 'M' else -1)\n",
    "\n",
    "# Séparation des caractéristiques et des étiquettes\n",
    "test_features = test_df.iloc[:, :-1].values\n",
    "test_labels = test_df.iloc[:, -1].values\n",
    "print(test_labels)\n",
    "\n",
    "# Séparation des caractéristiques et des étiquettes\n",
    "train_features = train_df.iloc[:, :-1].values\n",
    "train_labels = train_df.iloc[:, -1].values\n",
    "print(train_labels)\n",
    "# Entraînement du perceptron\n",
    "weights = perceptron_batch(train_features, train_labels)\n",
    "\n",
    "print(weights)\n"
   ]
  },
  {
   "attachments": {},
   "cell_type": "markdown",
   "metadata": {},
   "source": [
    "Test sur l'ensemble de test"
   ]
  },
  {
   "cell_type": "code",
   "execution_count": 64,
   "metadata": {},
   "outputs": [
    {
     "name": "stdout",
     "output_type": "stream",
     "text": [
      "[1, 1, 1, -1, 1, 1, 1, 1, -1, -1, -1, 1, 1, 1, -1, 1, 1, -1, -1, -1, -1, -1, 1, -1, -1, 1, 1, -1, 1, -1, -1, 1, 1, -1, -1, 1, 1, -1, 1, -1, 1, -1, 1, -1, 1, 1, -1, -1, -1, 1, 1, 1, -1, 1, -1, 1, 1, 1, -1, 1, -1, -1, 1, -1, 1, 1, 1, 1, -1, 1, -1, 1, -1, 1, 1, -1, -1, 1, -1, 1, 1, 1, -1, 1, -1, -1, 1, -1, -1, -1, -1, -1, -1, 1, 1, -1, -1, -1, 1, 1, 1, 1, 1, 1]\n"
     ]
    }
   ],
   "source": [
    "# Supposons que `weights` est le vecteur de poids appris du perceptron\n",
    "def predict_perceptron(inputs, weights):\n",
    "    activation = np.dot(inputs, weights[1:]) + weights[0]\n",
    "    return 1 if activation >= 0 else -1\n",
    "\n",
    "# Supposons que test_df contient uniquement les caractéristiques sans les étiquettes\n",
    "test_features = test_df.iloc[:, :60].values  # Sélectionne uniquement les colonnes de caractéristiques\n",
    "\n",
    "# Faire des prédictions\n",
    "predictions = [predict_perceptron(x, weights) for x in test_features]\n",
    "\n",
    "# Affichage des prédictions\n",
    "print(predictions)\n"
   ]
  },
  {
   "attachments": {},
   "cell_type": "markdown",
   "metadata": {},
   "source": [
    "Calcul de Ea et de Eg"
   ]
  },
  {
   "cell_type": "code",
   "execution_count": 65,
   "metadata": {},
   "outputs": [
    {
     "name": "stdout",
     "output_type": "stream",
     "text": [
      "Erreur d'apprentissage (Ea) : 0.0\n",
      "Erreur de généralisation (Eg) : 0.5384615384615384\n",
      "\n",
      " Poids appris du perceptron :\n",
      "[-0.098       0.0842751   0.21072314  0.03838012  0.11038062  0.07259872\n",
      "  0.14434456 -0.06594728 -0.15828186  0.00899288  0.10787674  0.038768\n",
      "  0.01341432  0.00255996  0.0042866   0.05863472 -0.1958266  -0.05572258\n",
      "  0.20306202 -0.0378772  -0.00970566 -0.03937258  0.05972566 -0.0440081\n",
      "  0.1078278  -0.01139262 -0.01252908  0.01074978 -0.02024282 -0.019539\n",
      "  0.2048143  -0.30649636  0.23248804 -0.16053052  0.0743006  -0.04041242\n",
      " -0.02133034 -0.03860196 -0.02090698  0.17067118 -0.1526431   0.0636046\n",
      " -0.0140197  -0.01147842 -0.06595438  0.11983514  0.1035655  -0.10689164\n",
      "  0.2105948   0.28900536 -0.12872816  0.05331192  0.05126696  0.030002\n",
      "  0.0825407  -0.01197684 -0.02328594 -0.0544665   0.03433368 -0.01490698\n",
      " -0.01637436]\n"
     ]
    }
   ],
   "source": [
    "# Fonction pour calculer la précision\n",
    "def calculate_accuracy(features, labels, weights):\n",
    "    predictions = [predict_perceptron(x, weights) for x in features]\n",
    "    correct_predictions = sum(pred == label for pred, label in zip(predictions, labels))\n",
    "    accuracy = correct_predictions / len(labels)\n",
    "    return accuracy\n",
    "\n",
    "# Convertir les étiquettes de l'ensemble de test en valeurs numériques -1 et 1\n",
    "test_df['Label'] = test_df['Label'].apply(lambda x: 1 if x == 'M' else -1)\n",
    "\n",
    "# Séparer les caractéristiques et les étiquettes de l'ensemble de test\n",
    "test_features = test_df.iloc[:, :-1].values\n",
    "test_labels = test_df.iloc[:, -1].values\n",
    "\n",
    "# Calculer la précision sur l'ensemble d'entraînement et de test\n",
    "training_accuracy = calculate_accuracy(train_features, train_labels, weights)\n",
    "testing_accuracy = calculate_accuracy(test_features, test_labels, weights)\n",
    "\n",
    "# Calculer les erreurs d'apprentissage (Ea) et de généralisation (Eg)\n",
    "Ea = 1 - training_accuracy\n",
    "Eg = 1 - testing_accuracy\n",
    "\n",
    "print(f\"Erreur d'apprentissage (Ea) : {Ea}\")\n",
    "print(f\"Erreur de généralisation (Eg) : {Eg}\")\n",
    "\n",
    "print(\"\\n Poids appris du perceptron :\")\n",
    "print(weights)"
   ]
  },
  {
   "attachments": {},
   "cell_type": "markdown",
   "metadata": {},
   "source": [
    "- ### C) Calculer les stabilités des P exemples de « test » selon la formule de gamma (distance a l’hyperplan séparateur avec les poids normés)"
   ]
  },
  {
   "cell_type": "code",
   "execution_count": 66,
   "metadata": {},
   "outputs": [
    {
     "name": "stdout",
     "output_type": "stream",
     "text": [
      "Stabilités des exemples de test :\n",
      "[-5.96504976e-02 -9.05518829e-02 -3.03179844e-02  3.21756163e-02\n",
      " -6.26573337e-02 -3.80358734e-02 -2.13590852e-02 -4.33566283e-02\n",
      "  8.39413471e-03  1.41543218e-02  7.14157741e-02 -7.34300361e-02\n",
      " -1.02666393e-01 -1.64231512e-01  6.33179116e-02 -1.20962897e-01\n",
      " -5.67902197e-02  6.19599892e-03  1.10958679e-01  3.09456141e-02\n",
      "  5.73721430e-02  2.34926850e-02 -1.27873356e-01  7.76958435e-03\n",
      "  3.45330329e-03 -5.80111074e-02 -7.72975481e-03  4.61395923e-03\n",
      " -2.02613880e-01  4.06103879e-04  3.35312539e-02 -4.45109076e-02\n",
      " -7.86729195e-03  8.62746418e-02  6.81645634e-02 -6.48955084e-02\n",
      " -3.68482282e-02  2.84552463e-02 -7.98359344e-02  9.04707904e-02\n",
      " -9.61632053e-02  1.62313280e-02 -5.12863494e-02  1.08414199e-01\n",
      " -1.24244405e-01 -6.84133548e-03  7.44136000e-03  2.16342450e-02\n",
      "  4.58058596e-02 -6.02908120e-02 -1.18357542e-01 -4.89606525e-02\n",
      "  2.16896569e-03 -4.62131568e-02  2.49045765e-02 -1.28468489e-01\n",
      " -8.04233519e-03 -1.30402613e-01  5.07564928e-02 -9.76389318e-02\n",
      "  5.24528039e-02  1.05347375e-01 -1.46133301e-01  3.95012029e-02\n",
      " -7.47422605e-02 -4.06701762e-02 -4.83483241e-02 -2.97679262e-02\n",
      "  2.83149553e-02 -6.81004031e-02  5.46365828e-02 -6.12731602e-02\n",
      "  1.46261077e-02 -8.24870207e-02 -3.14298089e-02  5.90542213e-02\n",
      "  2.51405119e-02 -8.48623600e-02  1.76052117e-01 -1.67218698e-01\n",
      " -3.97922298e-02 -9.16535946e-03  1.42559955e-04 -1.09874618e-01\n",
      "  4.68891815e-02  5.03814860e-02 -1.32827632e-01  3.66616119e-02\n",
      "  1.25737095e-02  2.90430343e-02  6.65445430e-02  5.33184027e-02\n",
      "  9.58982904e-02 -9.21882147e-03 -5.37108195e-02  1.49107195e-01\n",
      "  1.12317812e-01  1.35235525e-02 -4.02218177e-02 -5.97113707e-02\n",
      " -5.74867862e-02 -5.87837061e-02 -1.20422696e-01 -4.62902385e-02]\n"
     ]
    }
   ],
   "source": [
    "import numpy as np\n",
    "\n",
    "def calculate_stabilities(test_features, test_labels, weights):\n",
    "    \"\"\"\n",
    "    Calcule la stabilité de chaque exemple de test.\n",
    "\n",
    "    :param test_features: numpy.ndarray, les caractéristiques de test (sans biais ajouté).\n",
    "    :param test_labels: numpy.ndarray, les étiquettes de test (-1 ou 1).\n",
    "    :param weights: numpy.ndarray, les poids appris (y compris le biais).\n",
    "    :return: numpy.ndarray, les stabilités de chaque exemple de test.\n",
    "    \"\"\"\n",
    "    # Séparation du poids du biais et des poids des caractéristiques\n",
    "    b, w = weights[0], weights[1:]\n",
    "    \n",
    "    # Calcul de la norme des poids (sans le biais)\n",
    "    norm_w = np.linalg.norm(w)\n",
    "    \n",
    "    # Calcul des activations (y_i * (w . x_i + b))\n",
    "    activations = test_labels * (np.dot(test_features, w) + b)\n",
    "    \n",
    "    # Calcul des stabilités (activation / norm_w)\n",
    "    stabilities = activations / norm_w\n",
    "    \n",
    "    return stabilities\n",
    "\n",
    "# Supposons que test_df est déjà défini et contient les données de test\n",
    "# Conversion des étiquettes 'R' et 'M' en -1 et 1 pour les données de test\n",
    "test_df['Label'] = test_df['Label'].apply(lambda x: 1 if x == 'M' else -1)\n",
    "\n",
    "# Séparation des caractéristiques et des étiquettes pour les données de test\n",
    "test_features = test_df.iloc[:, :-1].values\n",
    "test_labels = test_df.iloc[:, -1].values\n",
    "\n",
    "# Calcul des stabilités\n",
    "stabilities = calculate_stabilities(test_features, test_labels, weights)\n",
    "\n",
    "# Affichage des stabilités\n",
    "print(\"Stabilités des exemples de test :\")\n",
    "print(stabilities)\n"
   ]
  },
  {
   "cell_type": "code",
   "execution_count": 67,
   "metadata": {},
   "outputs": [
    {
     "name": "stdout",
     "output_type": "stream",
     "text": [
      "[-1 -1 -1 -1 -1 -1 -1 -1 -1 -1 -1 -1 -1 -1 -1 -1 -1 -1 -1 -1 -1 -1 -1 -1\n",
      " -1 -1 -1 -1 -1 -1 -1 -1 -1 -1 -1 -1 -1 -1 -1 -1 -1 -1 -1 -1 -1 -1 -1 -1\n",
      " -1 -1 -1 -1 -1 -1 -1 -1 -1 -1 -1 -1 -1 -1 -1 -1 -1 -1 -1 -1 -1 -1 -1 -1\n",
      " -1 -1 -1 -1 -1 -1 -1 -1 -1 -1 -1 -1 -1 -1 -1 -1 -1 -1 -1 -1 -1 -1 -1 -1\n",
      " -1 -1 -1 -1 -1 -1 -1 -1]\n",
      "[ 1 -1 -1  1 -1 -1  1  1  1  1 -1  1 -1 -1 -1 -1  1  1 -1  1 -1  1 -1  1\n",
      "  1  1 -1 -1  1 -1  1 -1  1  1 -1 -1  1  1 -1 -1  1 -1  1  1 -1 -1  1 -1\n",
      "  1 -1  1  1  1  1  1 -1 -1 -1 -1  1 -1 -1  1 -1 -1  1  1 -1  1  1 -1  1\n",
      " -1  1 -1  1  1  1 -1 -1  1 -1 -1 -1 -1 -1 -1 -1 -1  1 -1 -1 -1  1 -1  1\n",
      "  1 -1  1 -1  1 -1  1 -1]\n"
     ]
    },
    {
     "data": {
      "image/png": "[encoded data removed]",
      "text/plain": [
       "<Figure size 720x432 with 1 Axes>"
      ]
     },
     "metadata": {
      "needs_background": "light"
     },
     "output_type": "display_data"
    }
   ],
   "source": [
    "import numpy as np\n",
    "import matplotlib.pyplot as plt\n",
    "\n",
    "print(test_labels)\n",
    "print(train_labels)\n",
    "\n",
    "# Exemple des caractéristiques des exemples de test\n",
    "test_features = train_df.iloc[:, :-1].values\n",
    "\n",
    "# Exemple des étiquettes réelles des exemples de test\n",
    "test_labels = train_df.iloc[:, -1].values\n",
    "\n",
    "# Normalize the weights (excluding the bias term)\n",
    "norm_weights = np.linalg.norm(weights[1:])\n",
    "\n",
    "# Calculate the signed distance from the decision boundary for each example\n",
    "signed_distances = (np.dot(test_features, weights[1:]) + weights[0]) / norm_weights\n",
    "\n",
    "# Multiply by labels to get stabilities\n",
    "stabilities = signed_distances * test_labels\n",
    "\n",
    "# Plotting\n",
    "plt.figure(figsize=(10, 6))\n",
    "for label in np.unique(test_labels):\n",
    "    plt.scatter(np.arange(len(stabilities))[test_labels == label], stabilities[test_labels == label], label=f'Class {label}')\n",
    "plt.axhline(0, color='grey', linestyle='--')\n",
    "plt.xlabel('Example index')\n",
    "plt.ylabel('Stability')\n",
    "plt.title('Stability of Test Examples')\n",
    "plt.legend()\n",
    "plt.show()"
   ]
  },
  {
   "attachments": {},
   "cell_type": "markdown",
   "metadata": {},
   "source": [
    "- ## D) Graphique des stabilités\n"
   ]
  },
  {
   "cell_type": "code",
   "execution_count": 68,
   "metadata": {},
   "outputs": [
    {
     "ename": "NameError",
     "evalue": "name 'mu' is not defined",
     "output_type": "error",
     "traceback": [
      "\u001b[1;31m---------------------------------------------------------------------------\u001b[0m",
      "\u001b[1;31mNameError\u001b[0m                                 Traceback (most recent call last)",
      "\u001b[1;32mf:\\ayoub\\univ\\FRANCE\\M1 IA\\S2\\APPRENTISSAGE SUPERVISE\\4 APPROCHES NEURONALES\\25% TP1\\Approches-Neuronales\\Tp2-MustaphaAyoub\\Tp2.ipynb Cellule 14\u001b[0m in \u001b[0;36m<cell line: 8>\u001b[1;34m()\u001b[0m\n\u001b[0;32m      <a href='vscode-notebook-cell:/f%3A/ayoub/univ/FRANCE/M1%20IA/S2/APPRENTISSAGE%20SUPERVISE/4%20APPROCHES%20NEURONALES/25%25%20TP1/Approches-Neuronales/Tp2-MustaphaAyoub/Tp2.ipynb#X35sZmlsZQ%3D%3D?line=5'>6</a>\u001b[0m \u001b[39m# Plot for (a)\u001b[39;00m\n\u001b[0;32m      <a href='vscode-notebook-cell:/f%3A/ayoub/univ/FRANCE/M1%20IA/S2/APPRENTISSAGE%20SUPERVISE/4%20APPROCHES%20NEURONALES/25%25%20TP1/Approches-Neuronales/Tp2-MustaphaAyoub/Tp2.ipynb#X35sZmlsZQ%3D%3D?line=6'>7</a>\u001b[0m plt\u001b[39m.\u001b[39msubplot(\u001b[39m1\u001b[39m, \u001b[39m2\u001b[39m, \u001b[39m1\u001b[39m)\n\u001b[1;32m----> <a href='vscode-notebook-cell:/f%3A/ayoub/univ/FRANCE/M1%20IA/S2/APPRENTISSAGE%20SUPERVISE/4%20APPROCHES%20NEURONALES/25%25%20TP1/Approches-Neuronales/Tp2-MustaphaAyoub/Tp2.ipynb#X35sZmlsZQ%3D%3D?line=7'>8</a>\u001b[0m plt\u001b[39m.\u001b[39mscatter(mu[t \u001b[39m==\u001b[39m \u001b[39m1\u001b[39m], d[t \u001b[39m==\u001b[39m \u001b[39m1\u001b[39m], c\u001b[39m=\u001b[39m\u001b[39m'\u001b[39m\u001b[39mblack\u001b[39m\u001b[39m'\u001b[39m, label\u001b[39m=\u001b[39m\u001b[39m'\u001b[39m\u001b[39mt^u = +1\u001b[39m\u001b[39m'\u001b[39m)\n\u001b[0;32m      <a href='vscode-notebook-cell:/f%3A/ayoub/univ/FRANCE/M1%20IA/S2/APPRENTISSAGE%20SUPERVISE/4%20APPROCHES%20NEURONALES/25%25%20TP1/Approches-Neuronales/Tp2-MustaphaAyoub/Tp2.ipynb#X35sZmlsZQ%3D%3D?line=8'>9</a>\u001b[0m plt\u001b[39m.\u001b[39mscatter(mu[t \u001b[39m==\u001b[39m \u001b[39m-\u001b[39m\u001b[39m1\u001b[39m], d[t \u001b[39m==\u001b[39m \u001b[39m-\u001b[39m\u001b[39m1\u001b[39m], c\u001b[39m=\u001b[39m\u001b[39m'\u001b[39m\u001b[39mgrey\u001b[39m\u001b[39m'\u001b[39m, label\u001b[39m=\u001b[39m\u001b[39m'\u001b[39m\u001b[39mt^u = -1\u001b[39m\u001b[39m'\u001b[39m)\n\u001b[0;32m     <a href='vscode-notebook-cell:/f%3A/ayoub/univ/FRANCE/M1%20IA/S2/APPRENTISSAGE%20SUPERVISE/4%20APPROCHES%20NEURONALES/25%25%20TP1/Approches-Neuronales/Tp2-MustaphaAyoub/Tp2.ipynb#X35sZmlsZQ%3D%3D?line=9'>10</a>\u001b[0m plt\u001b[39m.\u001b[39mtitle(\u001b[39m'\u001b[39m\u001b[39m(a) Training Set\u001b[39m\u001b[39m'\u001b[39m)\n",
      "\u001b[1;31mNameError\u001b[0m: name 'mu' is not defined"
     ]
    },
    {
     "data": {
      "image/png": "[encoded data removed]",
      "text/plain": [
       "<Figure size 1008x504 with 1 Axes>"
      ]
     },
     "metadata": {
      "needs_background": "light"
     },
     "output_type": "display_data"
    }
   ],
   "source": [
    "d = signed_distances\n",
    "\n",
    "# Plot the data\n",
    "plt.figure(figsize=(14, 7))\n",
    "\n",
    "# Plot for (a)\n",
    "plt.subplot(1, 2, 1)\n",
    "plt.scatter(mu[t == 1], d[t == 1], c='black', label='t^u = +1')\n",
    "plt.scatter(mu[t == -1], d[t == -1], c='grey', label='t^u = -1')\n",
    "plt.title('(a) Training Set')\n",
    "plt.xlabel('µ')\n",
    "plt.ylabel('d^u')\n",
    "plt.axhline(0, color='black', linewidth=0.5)\n",
    "plt.legend()\n",
    "\n",
    "# Plot for (b) could be another condition or dataset, we'll use the same data for this example\n",
    "plt.subplot(1, 2, 2)\n",
    "plt.scatter(mu[t == 1], d[t == 1], c='black', label='t^u = +1')\n",
    "plt.scatter(mu[t == -1], d[t == -1], c='grey', label='t^u = -1')\n",
    "plt.title('(b)')\n",
    "plt.xlabel('µ')\n",
    "plt.ylabel('d^u')\n",
    "plt.axhline(0, color='black', linewidth=0.5)\n",
    "plt.legend()\n",
    "\n",
    "plt.tight_layout()\n",
    "plt.show()"
   ]
  }
 ],
 "metadata": {
  "kernelspec": {
   "display_name": "Python 3",
   "language": "python",
   "name": "python3"
  },
  "language_info": {
   "codemirror_mode": {
    "name": "ipython",
    "version": 3
   },
   "file_extension": ".py",
   "mimetype": "text/x-python",
   "name": "python",
   "nbconvert_exporter": "python",
   "pygments_lexer": "ipython3",
   "version": "3.10.8"
  }
 },
 "nbformat": 4,
 "nbformat_minor": 2
}
