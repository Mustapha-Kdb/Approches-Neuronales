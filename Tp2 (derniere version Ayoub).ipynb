{
 "cells": [
  {
   "attachments": {},
   "cell_type": "markdown",
   "metadata": {},
   "source": [
    "Partie 1\n",
    "#Chargement des données "
   ]
  },
  {
   "cell_type": "code",
   "execution_count": 13,
   "metadata": {},
   "outputs": [
    {
     "name": "stdout",
     "output_type": "stream",
     "text": [
      "104\n",
      "104\n"
     ]
    }
   ],
   "source": [
    "import pandas as pd\n",
    "import re\n",
    "\n",
    "def extract_data(input_path, pattern):\n",
    "    with open(input_path, 'r') as file:\n",
    "        content = file.read()\n",
    "    matches = re.findall(pattern, content, re.MULTILINE)\n",
    "    data = []\n",
    "    for match in matches:\n",
    "        numbers = match[1].replace('\\n', ' ').split()\n",
    "        numbers_float = [float(number) for number in numbers]\n",
    "        data.append(numbers_float)\n",
    "    return pd.DataFrame(data)\n",
    "\n",
    "rocks_path = 'data/sonar.rocks'\n",
    "mines_path = 'data/sonar.mines'\n",
    "\n",
    "# Patterns for extracting train and test data\n",
    "train_pattern = r'\\*(CR|CM)\\d+:\\n\\{([\\d\\s\\.\\n]+)\\}'\n",
    "test_pattern = r'^(?!\\*)(CR|CM)\\d+:\\n\\{([\\d\\s\\.\\n]+)\\}'\n",
    "\n",
    "# Extracting train and test data\n",
    "rocks_train_df = extract_data(rocks_path, train_pattern)\n",
    "mines_train_df = extract_data(mines_path, train_pattern)\n",
    "rocks_train_df['Label'] = 'R'  \n",
    "mines_train_df['Label'] = 'M' \n",
    "train_df = pd.concat([rocks_train_df, mines_train_df], ignore_index=True).sample(frac=1).reset_index(drop=True)\n",
    "\n",
    "rocks_test_df = extract_data(rocks_path, test_pattern)\n",
    "mines_test_df = extract_data(mines_path, test_pattern)\n",
    "rocks_test_df['Label'] = 'R'  \n",
    "mines_test_df['Label'] = 'M' \n",
    "test_df = pd.concat([rocks_test_df, mines_test_df], ignore_index=True).sample(frac=1).reset_index(drop=True)\n",
    "\n",
    "print(len(train_df))\n",
    "print(len(test_df)) \n"
   ]
  },
  {
   "attachments": {},
   "cell_type": "markdown",
   "metadata": {},
   "source": [
    "Partie 2"
   ]
  },
  {
   "attachments": {},
   "cell_type": "markdown",
   "metadata": {},
   "source": [
    "##Apprentissage sur train"
   ]
  },
  {
   "cell_type": "code",
   "execution_count": 14,
   "metadata": {},
   "outputs": [],
   "source": [
    "import numpy as np\n",
    "\n",
    "def perceptron_batch(training_features, training_labels, epochs=22000, learning_rate=0.001):\n",
    "\n",
    "    # Initialisation des poids\n",
    "    weights = np.zeros(training_features.shape[1] + 1)\n",
    "    \n",
    "    # Entraînement\n",
    "    for _ in range(epochs):\n",
    "        # Initialisation du vecteur de mise à jour pour cette époque\n",
    "        update = np.zeros(training_features.shape[1] + 1)\n",
    "        \n",
    "        for inputs, label in zip(training_features, training_labels):\n",
    "            # Calcul de la prédiction\n",
    "            activation = np.dot(inputs, weights[1:]) + weights[0]\n",
    "            if activation >= 0:\n",
    "                prediction = 1\n",
    "            else:\n",
    "                prediction = -1\n",
    "            \n",
    "            # Accumulation de la mise à jour basée sur l'erreur\n",
    "            update[1:] += learning_rate * (label - prediction) * inputs\n",
    "            update[0] += learning_rate * (label - prediction)\n",
    "        \n",
    "        # Mise à jour des poids à la fin de l'époque\n",
    "        weights += update\n",
    "    \n",
    "    return weights\n",
    "\n",
    "# Préparation des données\n",
    "# Supposons que train_df est déjà défini et mélangé\n",
    "# Convertir les étiquettes 'R' et 'M' en valeurs numériques -1 et 1\n",
    "train_df['Label'] = train_df['Label'].apply(lambda x: 1 if x == 'M' else -1)\n",
    "test_df['Label'] = test_df['Label'].apply(lambda x: 1 if x == 'M' else -1)\n",
    "\n",
    "# Séparation des caractéristiques et des étiquettes\n",
    "train_features = train_df.iloc[:, :-1].values\n",
    "train_labels = train_df.iloc[:, -1].values\n",
    "\n",
    "# Entraînement du perceptron\n",
    "weights = perceptron_batch(train_features, train_labels)"
   ]
  },
  {
   "attachments": {},
   "cell_type": "markdown",
   "metadata": {},
   "source": [
    "Calcul de Ea et de Eg"
   ]
  },
  {
   "cell_type": "code",
   "execution_count": 15,
   "metadata": {},
   "outputs": [
    {
     "name": "stdout",
     "output_type": "stream",
     "text": [
      "[ 1  1 -1  1  1  1 -1 -1 -1 -1  1  1 -1  1  1  1  1 -1  1 -1 -1  1 -1  1\n",
      " -1  1  1  1 -1 -1 -1  1  1 -1  1  1  1  1  1  1 -1  1 -1 -1  1 -1  1  1\n",
      "  1  1  1 -1  1 -1 -1  1  1  1 -1  1 -1 -1  1  1  1 -1  1 -1 -1 -1 -1  1\n",
      " -1  1  1  1  1 -1  1  1 -1 -1  1 -1  1  1 -1  1  1  1 -1  1  1  1 -1  1\n",
      "  1 -1  1 -1  1  1 -1 -1]\n",
      "[1, 1, -1, -1, 1, 1, -1, -1, -1, -1, -1, 1, -1, -1, 1, 1, 1, -1, -1, 1, -1, 1, -1, 1, -1, 1, 1, 1, 1, -1, -1, 1, -1, -1, 1, 1, 1, 1, -1, 1, -1, 1, 1, -1, 1, 1, 1, 1, 1, 1, 1, -1, 1, -1, -1, 1, 1, 1, -1, 1, -1, -1, -1, 1, 1, -1, -1, -1, -1, -1, -1, 1, -1, 1, 1, 1, -1, -1, 1, 1, -1, -1, 1, -1, -1, -1, -1, 1, -1, 1, -1, -1, 1, 1, -1, 1, 1, 1, 1, 1, 1, 1, -1, 1]\n",
      "Erreur d'apprentissage (Ea) : 0.0\n",
      "Erreur de généralisation (Eg) : 0.1923076923076923\n",
      "Les poids du perceptron [-0.98       0.842751   2.1072314  0.3838012  1.1038062  0.7259872\n",
      "  1.4434456 -0.6594728 -1.5828186  0.0899288  1.0787674  0.38768\n",
      "  0.1341432  0.0255996  0.042866   0.5863472 -1.958266  -0.5572258\n",
      "  2.0306202 -0.378772  -0.0970566 -0.3937258  0.5972566 -0.440081\n",
      "  1.078278  -0.1139262 -0.1252908  0.1074978 -0.2024282 -0.19539\n",
      "  2.048143  -3.0649636  2.3248804 -1.6053052  0.743006  -0.4041242\n",
      " -0.2133034 -0.3860196 -0.2090698  1.7067118 -1.526431   0.636046\n",
      " -0.140197  -0.1147842 -0.6595438  1.1983514  1.035655  -1.0689164\n",
      "  2.105948   2.8900536 -1.2872816  0.5331192  0.5126696  0.30002\n",
      "  0.825407  -0.1197684 -0.2328594 -0.544665   0.3433368 -0.1490698\n",
      " -0.1637436]\n"
     ]
    }
   ],
   "source": [
    "def predict_perceptron(inputs, weights):\n",
    "    activation = np.dot(inputs, weights[1:]) + weights[0]\n",
    "    return 1 if activation >= 0 else -1\n",
    "\n",
    "# Fonction pour calculer la précision\n",
    "def calculate_accuracy(features, labels, weights):\n",
    "    predictions = [predict_perceptron(x, weights) for x in features]\n",
    "    correct_predictions = sum(pred == label for pred, label in zip(predictions, labels))\n",
    "    accuracy = correct_predictions / len(labels)\n",
    "    return accuracy\n",
    "\n",
    "# Convertir les étiquettes de l'ensemble de test en valeurs numériques -1 et 1\n",
    "# test_df['Label'] = test_df['Label'].apply(lambda x: 1 if x == 'M' else -1)\n",
    "\n",
    "# Séparer les caractéristiques et les étiquettes de l'ensemble de test\n",
    "test_features = test_df.iloc[:, :-1].values\n",
    "test_labels = test_df.iloc[:, -1].values\n",
    "\n",
    "print (test_labels)\n",
    "predictions = [predict_perceptron(x, weights) for x in test_features]\n",
    "print (predictions)\n",
    "# Calculer la précision sur l'ensemble d'entraînement et de test\n",
    "training_accuracy = calculate_accuracy(train_features, train_labels, weights)\n",
    "testing_accuracy = calculate_accuracy(test_features, test_labels, weights)\n",
    "\n",
    "# Calculer les erreurs d'apprentissage (Ea) et de généralisation (Eg)\n",
    "Ea = 1 - training_accuracy\n",
    "Eg = 1 - testing_accuracy\n",
    "\n",
    "print(f\"Erreur d'apprentissage (Ea) : {Ea}\")\n",
    "print(f\"Erreur de généralisation (Eg) : {Eg}\")\n",
    "\n",
    "print(\"Les poids du perceptron\",weights)"
   ]
  },
  {
   "attachments": {},
   "cell_type": "markdown",
   "metadata": {},
   "source": [
    "Fonction de stabilité"
   ]
  },
  {
   "cell_type": "code",
   "execution_count": 16,
   "metadata": {},
   "outputs": [
    {
     "name": "stdout",
     "output_type": "stream",
     "text": [
      "[0.12424440482863121, 0.06810040308189357, 0.028455246265528734, -0.014154321773558352, 0.03979222977121761, 0.09763893175005296, 0.025140511904158388, 0.021634245022504082, 0.17605211668319826, 0.06816456336079618, -0.032175616291226776, 0.056790219717952325, 0.09047079036005903, -0.012573709547965042, 0.021359085205933766, 0.06029081204123018, 0.08486236001802594, 0.03094561412402108, -0.10534737547047887, -0.09055188285508912, 0.05245280389071505, 0.048960652543287, 0.1084141989543381, 0.11835754249383569, 0.05331840266117581, 0.14613330105292824, 0.04022181768287108, 0.031429808917129834, -0.0433566282662839, 0.05463658281616091, 0.05905422131395758, 0.16423151163533417, -0.05038148598082862, 0.033531253909251324, 0.05371081947149742, 0.008042335191404102, 0.048348324110748665, 0.04067017616194116, -0.008394134711908429, 0.06127316022938894, 0.007441359997920766, 0.059711370711549805, -0.009165359455130244, 0.0283149552703487, 0.02976792620970397, -0.009218821466753322, 0.20261388007171668, 0.0626573336846683, 0.038035873433828464, 0.03684822819133175, 0.1328276321959927, 0.039501202941644616, 0.1278733564913801, 0.11231781199792294, 0.04580585955103046, 0.12846848867155813, 0.08248702066140078, 0.05128634944688851, 0.014626107736102872, 0.007867291952068098, 0.08627464181864607, 0.003453303287031457, -0.029043034284101512, 0.05965049762298533, 0.057486786224909756, 0.1109586788273944, -0.004613959227722633, 0.057372142993362595, 0.00014255995467991723, 0.07141577406177065, 0.024904576484387354, 0.06489550841872985, 0.06654454302778082, 0.07983593435332037, 0.03031798436020675, 0.044510907648270745, -0.0021689656867154017, 0.00040610387947959017, 0.05878370610762149, 0.07343003608747894, 0.05075649278577125, 0.00776958435310729, 0.007729754812896998, 0.14910719515134535, -0.023492685040128712, -0.06331791162327366, 0.03666161187972321, 0.046213156787424374, -0.016231327999172606, 0.006841335479743534, 0.046889181520865755, -0.006195998921334253, 0.09616320527106982, 0.13040261257309263, 0.01352355246837987, 0.16721869785067017, 0.046290238502646665, -0.07474226052332653, 0.1026663929577286, -0.10987461833132722, 0.12042269580186737, 0.12096289657160085, 0.09589829040586774, -0.058011107387373716]\n"
     ]
    }
   ],
   "source": [
    "def calculate_stability(features, labels, weights):\n",
    "    norm_w = np.linalg.norm(weights[1:])  # Calcul de la norme du vecteur de poids (sans le biais)\n",
    "    stabilities = []\n",
    "    for x, y in zip(features, labels):\n",
    "        # Calcul de la marge fonctionnelle pour chaque exemple\n",
    "        gamma = y * (np.dot(weights[1:], x) + weights[0]) / norm_w\n",
    "        stabilities.append(gamma)\n",
    "    return stabilities\n",
    "\n",
    "# Calcul des stabilités pour l'ensemble de test\n",
    "test_stabilities = calculate_stability(test_features, test_labels, weights)\n",
    "\n",
    "# Afficher les stabilités des exemples de test\n",
    "print(test_stabilities)\n",
    "\n",
    "\n"
   ]
  },
  {
   "attachments": {},
   "cell_type": "markdown",
   "metadata": {},
   "source": [
    "Graph"
   ]
  },
  {
   "cell_type": "code",
   "execution_count": 17,
   "metadata": {},
   "outputs": [
    {
     "data": {
      "image/png": "[encoded data removed]",
      "text/plain": [
       "<Figure size 720x432 with 1 Axes>"
      ]
     },
     "metadata": {
      "needs_background": "light"
     },
     "output_type": "display_data"
    }
   ],
   "source": [
    "import matplotlib.pyplot as plt\n",
    "\n",
    "# Définir les étiquettes pour les mines et les roches\n",
    "# Ici, nous simulons les étiquettes. Dans votre cas, utilisez les étiquettes réelles de vos données\n",
    "labels = ['Bien classé' if val > 0 else 'Mal classé' for val in test_stabilities]\n",
    "\n",
    "# Créer le graphique de stabilité\n",
    "plt.figure(figsize=(10, 6))\n",
    "\n",
    "# Barres pour les exemples classés comme mines\n",
    "plt.bar(range(len(test_stabilities)), [val if val > 0 else 0 for val in test_stabilities], \n",
    "        color='blue', label='Bien classé')\n",
    "\n",
    "# Barres pour les exemples classés comme roches\n",
    "plt.bar(range(len(test_stabilities)), [val if val < 0 else 0 for val in test_stabilities], \n",
    "        color='red', label='Mal classé')\n",
    "\n",
    "# Ajouter des légendes, des étiquettes et un titre\n",
    "plt.legend()\n",
    "plt.xlabel('Exemple')\n",
    "plt.ylabel('Stabilité')\n",
    "plt.title('Graphique de Stabilité pour les Données de Test')\n",
    "\n",
    "# Afficher le graphique\n",
    "plt.show()\n"
   ]
  },
  {
   "attachments": {},
   "cell_type": "markdown",
   "metadata": {},
   "source": [
    "- ## Apprentissage Sur L'ensemble de Test"
   ]
  },
  {
   "cell_type": "code",
   "execution_count": 18,
   "metadata": {},
   "outputs": [
    {
     "name": "stdout",
     "output_type": "stream",
     "text": [
      "Erreur d'apprentissage (Ea) : 0.0\n",
      "Erreur de généralisation (Eg) : 0.24038461538461542\n",
      "Les poids du perceptron [-0.328      0.0686126 -0.1159324 -0.077849   0.1135112  0.0488218\n",
      " -0.3204944 -0.5926774 -0.0325976  0.428619   0.1735732  0.6977114\n",
      "  0.4804088  0.0313228 -0.120048  -0.3533744  0.1946254  0.0283746\n",
      " -0.1925738 -0.061936   0.101043   0.1632826  0.0522688  0.1890824\n",
      "  0.1946074 -0.2644658 -0.2842268  0.029335   0.2229372  0.0131534\n",
      "  0.0193636 -0.2111312  0.1043906 -0.0647168 -0.269177   0.1494514\n",
      " -0.1701704 -0.6112972 -0.066194   0.3420308 -0.2526802  0.122682\n",
      "  0.146649   0.476997   0.623887   0.344156   0.043636   0.0806328\n",
      "  0.2418556  0.0053686 -0.0403676  0.0975422  0.0670112  0.0267412\n",
      "  0.016926   0.0034072  0.0148744  0.024501   0.0196874  0.0724016\n",
      "  0.0097818]\n"
     ]
    },
    {
     "data": {
      "image/png": "[encoded data removed]",
      "text/plain": [
       "<Figure size 432x288 with 1 Axes>"
      ]
     },
     "metadata": {
      "needs_background": "light"
     },
     "output_type": "display_data"
    }
   ],
   "source": [
    "# maintenant on va faire l'inverse Apprendre l’ensemble « test », puis tester sur l’ensemble\n",
    "# « train ». Calculer a), b) et c) du point précédent 2. Les données à tester NE DOIVENT\n",
    "# PAS CONTENIR LEUR CLASSE.\n",
    "\n",
    "# Entraînement du perceptron\n",
    "weights = perceptron_batch(test_features, test_labels)\n",
    "\n",
    "test_stabilities= calculate_stability(train_features, train_labels, weights)\n",
    "# Calculer la précision sur l'ensemble d'entraînement et de test\n",
    "training_accuracy = calculate_accuracy(test_features, test_labels, weights)\n",
    "testing_accuracy = calculate_accuracy(train_features, train_labels, weights)\n",
    "\n",
    "# Calculer les erreurs d'apprentissage (Ea) et de généralisation (Eg)\n",
    "Ea = 1 - training_accuracy\n",
    "Eg = 1 - testing_accuracy\n",
    "\n",
    "print(f\"Erreur d'apprentissage (Ea) : {Ea}\")\n",
    "print(f\"Erreur de généralisation (Eg) : {Eg}\")\n",
    "\n",
    "print(\"Les poids du perceptron\",weights)\n",
    "\n",
    "# Affichage du graphique\n",
    "plt.bar(range(len(test_stabilities)), [val if val < 0 else 0 for val in test_stabilities], \n",
    "        color='blue', label='Bien classé')\n",
    "\n",
    "# Barres pour les exemples classés comme roches\n",
    "plt.bar(range(len(test_stabilities)), [val if val > 0 else 0 for val in test_stabilities], \n",
    "        color='red', label='Mal classé')\n",
    "\n",
    "# Ajout des étiquettes\n",
    "plt.xlabel('Exemples')\n",
    "plt.ylabel('Pertes')\n",
    "plt.title('Pertes pour les exemples de test')\n",
    "plt.legend()\n",
    "plt.show()"
   ]
  },
  {
   "attachments": {},
   "cell_type": "markdown",
   "metadata": {},
   "source": [
    "- # Partie 3"
   ]
  },
  {
   "attachments": {},
   "cell_type": "markdown",
   "metadata": {},
   "source": [
    "Initialise W (poids) aléatoirement ou par une initialisation de Hebb\n",
    "Initialise W_pocket = W\n",
    "Tant que le critère d'arrêt n'est pas atteint :\n",
    "    Pour chaque exemple dans l'ensemble d'entraînement :\n",
    "        Si l'exemple est mal classé par W :\n",
    "            Mettre à jour les poids W\n",
    "            Si le nouvel ensemble W a une meilleure performance que W_pocket :\n",
    "                Mettre à jour W_pocket avec W\n"
   ]
  },
  {
   "cell_type": "code",
   "execution_count": 87,
   "metadata": {},
   "outputs": [
    {
     "name": "stdout",
     "output_type": "stream",
     "text": [
      "Méthode\t\t\tEa\t\tEg\t\tNb_iterations\n",
      "Random\t\t\t0.0096\t\t0.2019\t\t14492\n",
      "Hebb\t\t\t0.0096\t\t0.2019\t\t14113\n",
      "Exchange Random\t\t0.0096\t\t0.2212\t\t1032\n",
      "Exchange Hebb\t\t0.0096\t\t0.2404\t\t993\n",
      "La meilleure méthode est Random\n",
      "Temps d'exécution pour learning_rate=0.1 :  {48.09938859939575} secondes\n",
      "\n",
      "\n"
     ]
    }
   ],
   "source": [
    "import time\n",
    "\n",
    "def initialisation_de_hebb(training_features, training_labels):\n",
    "    # Initialisation de Hebb\n",
    "    weights = np.zeros(training_features.shape[1] + 1)\n",
    "    \n",
    "    for inputs, label in zip(training_features, training_labels):\n",
    "        weights[1:] += label * inputs\n",
    "        weights[0] += label\n",
    "    \n",
    "    return weights\n",
    "# Implémentation de l'algorithme Pocket\n",
    "def pocket_algorithm(train_features, train_labels, test_features, test_labels,weights,max_iter=22000,max_err=0, learning_rate=0.1):\n",
    "    \n",
    "    # Initialisation des poids pour le meilleur résultat\n",
    "    best_weights = weights\n",
    "    \n",
    "    # Initialisation du nombre d'itérations\n",
    "    Nb_iterations = 0\n",
    "    \n",
    "    Ea=1\n",
    "    \n",
    "    # Entraînement\n",
    "    while Nb_iterations < max_iter and Ea > max_err:\n",
    "        # Initialisation du vecteur de mise à jour pour cette époque\n",
    "        update = np.zeros(train_features.shape[1] + 1)\n",
    "        \n",
    "        for inputs, label in zip(train_features, train_labels):\n",
    "            # Calcul de la prédiction\n",
    "            activation = np.dot(inputs, weights[1:]) + weights[0]\n",
    "            if activation >= 0:\n",
    "                prediction = 1\n",
    "            else:\n",
    "                prediction = -1\n",
    "            \n",
    "            # Accumulation de la mise à jour basée sur l'erreur\n",
    "            update[1:] += learning_rate * (label - prediction) * inputs\n",
    "            update[0] += learning_rate * (label - prediction)\n",
    "        \n",
    "        # Mise à jour des poids à la fin de l'époque\n",
    "        weights += update\n",
    "        \n",
    "        # Calculer les erreurs d'apprentissage (Ea)\n",
    "        Ea = 1 - calculate_accuracy(train_features, train_labels, weights)\n",
    "        \n",
    "        # Calculer les erreurs de généralisation (Eg)\n",
    "        Eg = 1 - calculate_accuracy(test_features, test_labels, weights)\n",
    "        \n",
    "        # Mise à jour des poids pour le meilleur résultat\n",
    "        if Eg < 1 - calculate_accuracy(test_features, test_labels, best_weights):\n",
    "            best_weights = weights\n",
    "        \n",
    "        # Mise à jour du nombre d'itérations\n",
    "        Nb_iterations += 1\n",
    "    \n",
    "    return best_weights,Nb_iterations\n",
    "# Comparaison des initialisations et des ensembles de données\n",
    "def compare_methods(training_features, training_labels, test_features, test_labels, learning_rate, max_iter, max_err):\n",
    "    # Algorithme Pocket avec initialisation aléatoire\n",
    "    weights_random,Nb_iterations_random = pocket_algorithm(training_features, training_labels, test_features, test_labels, weights=np.random.rand(training_features.shape[1] + 1) * 2 - 1, max_iter=max_iter, max_err=max_err, learning_rate=learning_rate)\n",
    "    \n",
    "    # Algorithme Pocket avec initialisation de Hebb (règle de Hebb)\n",
    "    weights_hebb, Nb_iterations_hebb = pocket_algorithm(training_features, training_labels, test_features, test_labels, weights=initialisation_de_hebb(training_features, training_labels), max_iter=max_iter, max_err=max_err, learning_rate=learning_rate)\n",
    "    \n",
    "    # Algorithme Pocket avec échange des ensembles de données train/test (test sur l'ensemble d'entraînement) avec initialisation random\n",
    "    weights_exchange_random,Nb_iterations_exchange_random = pocket_algorithm(test_features, test_labels, training_features, training_labels,weights=np.random.rand(test_features.shape[1] + 1) * 2 - 1, max_iter=max_iter, max_err=max_err, learning_rate=learning_rate)\n",
    "    \n",
    "    # Algorithme Pocket avec échange des ensembles de données train/test (test sur l'ensemble d'entraînement) avec initialisation hebb\n",
    "    weights_exchange_hebb,Nb_iterations_exchange_hebb = pocket_algorithm(test_features, test_labels, training_features, training_labels, weights=initialisation_de_hebb(test_features, test_labels), max_iter=max_iter, max_err=max_err, learning_rate=learning_rate)\n",
    "    \n",
    "    # tableau pour les weights de tous les algorithmes\n",
    "    weights_pocket = [weights_random, weights_hebb, weights_exchange_random, weights_exchange_hebb]\n",
    "    # tableau pour les nombre d'interations de tous les algorithmes\n",
    "    Nb_iterations_pocket = [Nb_iterations_random, Nb_iterations_hebb, Nb_iterations_exchange_random, Nb_iterations_exchange_hebb]\n",
    "\n",
    "    \n",
    "    # tableau pour les Ea de tous les algorithmes\n",
    "    Ea_pocket = [1-calculate_accuracy (training_features, training_labels, weights_random), 1-calculate_accuracy (training_features, training_labels, weights_hebb), 1-calculate_accuracy (test_features, test_labels, weights_exchange_random),1- calculate_accuracy (test_features, test_labels, weights_exchange_hebb)]\n",
    "    \n",
    "    # tableau pour les Eg de tous les algorithmes\n",
    "    Eg_pocket = [1- calculate_accuracy ( test_features, test_labels, weights_random),1- calculate_accuracy ( test_features, test_labels, weights_hebb),1- calculate_accuracy ( training_features, training_labels, weights_exchange_random),1- calculate_accuracy ( training_features, training_labels, weights_exchange_hebb)]\n",
    "    \n",
    "    # Affichage des résultats sous forme de tableau\n",
    "    print(\"Méthode\\t\\t\\tEa\\t\\tEg\\t\\tNb_iterations\")\n",
    "    print(\"Random\\t\\t\\t{:.4f}\\t\\t{:.4f}\\t\\t{}\".format(Ea_pocket[0], Eg_pocket[0], Nb_iterations_pocket[0]))\n",
    "    print(\"Hebb\\t\\t\\t{:.4f}\\t\\t{:.4f}\\t\\t{}\".format(Ea_pocket[1], Eg_pocket[1], Nb_iterations_pocket[1]))\n",
    "    print(\"Exchange Random\\t\\t{:.4f}\\t\\t{:.4f}\\t\\t{}\".format(Ea_pocket[2], Eg_pocket[2], Nb_iterations_pocket[2]))\n",
    "    print(\"Exchange Hebb\\t\\t{:.4f}\\t\\t{:.4f}\\t\\t{}\".format(Ea_pocket[3], Eg_pocket[3], Nb_iterations_pocket[3]))\n",
    "    \n",
    "    # Trouver l'indice de la meilleure méthode\n",
    "    min_Eg = min(Eg_pocket)\n",
    "    best_method = Eg_pocket.index(min_Eg)\n",
    "    \n",
    "    # Afficher la meilleure méthode\n",
    "    if best_method == 0:\n",
    "        print(\"La meilleure méthode est Random\")\n",
    "    if best_method == 1:\n",
    "        print(\"La meilleure méthode est Hebb\")\n",
    "    if best_method == 2:\n",
    "        print(\"La meilleure méthode est Exchange Random\")\n",
    "    if best_method == 3:\n",
    "        print(\"La meilleure méthode est Exchange Hebb\")\n",
    "    \n",
    "    return weights_pocket\n",
    " \n",
    "# 4 Programmer l’algorithme d’apprentissage Pocket : il garde le meilleur résultat de\n",
    "# l’algorithme du perceptron en fonctions des itérations et en fonction d’un Nb d’erreurs\n",
    "# prédéfini.Apprendre sur l’ensemble « train » en stoppant l’erreur d’apprentissage Ea fixé, puis tester\n",
    "# la généralisation Eg sur l’ensemble de test\n",
    "# tester sur differents learning rate avec l'affichage de temps d'execution\n",
    "for learning_rate in [0.1, 0.01, 0.001]:\n",
    "    start_time = time.time()\n",
    "    weights_pocket = compare_methods(train_features, train_labels, test_features, test_labels, learning_rate=learning_rate, max_iter=22000, max_err=0.01)\n",
    "    print(f\"Temps d'exécution pour learning_rate={learning_rate} : \",{time.time() - start_time}, \"secondes\")\n",
    "    print(\"\\n\")"
   ]
  }
 ],
 "metadata": {
  "kernelspec": {
   "display_name": "Python 3",
   "language": "python",
   "name": "python3"
  },
  "language_info": {
   "codemirror_mode": {
    "name": "ipython",
    "version": 3
   },
   "file_extension": ".py",
   "mimetype": "text/x-python",
   "name": "python",
   "nbconvert_exporter": "python",
   "pygments_lexer": "ipython3",
   "version": "3.9.13"
  }
 },
 "nbformat": 4,
 "nbformat_minor": 2
}
